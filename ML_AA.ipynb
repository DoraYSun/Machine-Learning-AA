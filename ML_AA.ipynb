{
 "cells": [
  {
   "cell_type": "code",
   "execution_count": 1,
   "metadata": {},
   "outputs": [],
   "source": [
    "import matplotlib.pyplot as plt\n",
    "import pandas as pd\n",
    "import numpy as np\n",
    "from sklearn.preprocessing import StandardScaler\n",
    "from sklearn.model_selection import train_test_split\n",
    "from sklearn.model_selection import cross_val_score\n"
   ]
  },
  {
   "cell_type": "code",
   "execution_count": 2,
   "metadata": {},
   "outputs": [],
   "source": [
    "#  x_data = df['make', '']\n",
    "#  y_data = df['price']\n",
    "#  x_train, x_test, y_tarin, y_test = train_test_split(x_data, y_data, test_size=0.3, random_state=0)"
   ]
  },
  {
   "cell_type": "code",
   "execution_count": 3,
   "metadata": {},
   "outputs": [],
   "source": [
    "# scores = cross_val_score(lr, x_data, y_data, cv=3)"
   ]
  },
  {
   "cell_type": "code",
   "execution_count": 4,
   "metadata": {},
   "outputs": [
    {
     "data": {
      "text/html": [
       "<div>\n",
       "<style scoped>\n",
       "    .dataframe tbody tr th:only-of-type {\n",
       "        vertical-align: middle;\n",
       "    }\n",
       "\n",
       "    .dataframe tbody tr th {\n",
       "        vertical-align: top;\n",
       "    }\n",
       "\n",
       "    .dataframe thead th {\n",
       "        text-align: right;\n",
       "    }\n",
       "</style>\n",
       "<table border=\"1\" class=\"dataframe\">\n",
       "  <thead>\n",
       "    <tr style=\"text-align: right;\">\n",
       "      <th></th>\n",
       "      <th>URL</th>\n",
       "      <th>image_url</th>\n",
       "      <th>license_plate</th>\n",
       "      <th>price</th>\n",
       "      <th>make</th>\n",
       "      <th>model</th>\n",
       "      <th>mileage</th>\n",
       "      <th>year</th>\n",
       "      <th>fuel_type</th>\n",
       "      <th>transmission</th>\n",
       "      <th>body_type</th>\n",
       "      <th>colour</th>\n",
       "      <th>doors</th>\n",
       "      <th>engine_size</th>\n",
       "    </tr>\n",
       "  </thead>\n",
       "  <tbody>\n",
       "    <tr>\n",
       "      <th>0</th>\n",
       "      <td>https://www.theaa.com/used-cars/cardetails/73-...</td>\n",
       "      <td>https://image.vcars.co.uk/vcarsdna/613006_1.jpg</td>\n",
       "      <td>SY17KFO</td>\n",
       "      <td>5295.0</td>\n",
       "      <td>Peugeot</td>\n",
       "      <td>308</td>\n",
       "      <td>89000.0</td>\n",
       "      <td>2017.0</td>\n",
       "      <td>Diesel</td>\n",
       "      <td>Manual</td>\n",
       "      <td>Estate</td>\n",
       "      <td>Grey</td>\n",
       "      <td>5.0</td>\n",
       "      <td>1.6</td>\n",
       "    </tr>\n",
       "    <tr>\n",
       "      <th>1</th>\n",
       "      <td>https://www.theaa.com/used-cars/cardetails/73-...</td>\n",
       "      <td>https://image.vcars.co.uk/vcarsdna/613050_1.jpg</td>\n",
       "      <td>FT59BXE</td>\n",
       "      <td>4299.0</td>\n",
       "      <td>Volkswagen</td>\n",
       "      <td>Polo</td>\n",
       "      <td>44989.0</td>\n",
       "      <td>2010.0</td>\n",
       "      <td>Petrol</td>\n",
       "      <td>Manual</td>\n",
       "      <td>Hatchback</td>\n",
       "      <td>Grey</td>\n",
       "      <td>5.0</td>\n",
       "      <td>1.2</td>\n",
       "    </tr>\n",
       "    <tr>\n",
       "      <th>2</th>\n",
       "      <td>https://www.theaa.com/used-cars/cardetails/73-...</td>\n",
       "      <td>https://image.vcars.co.uk/vcarsdna/613044_1.jpg</td>\n",
       "      <td>LL15XOT</td>\n",
       "      <td>8245.0</td>\n",
       "      <td>Nissan</td>\n",
       "      <td>Juke</td>\n",
       "      <td>48678.0</td>\n",
       "      <td>2015.0</td>\n",
       "      <td>Petrol</td>\n",
       "      <td>Automatic</td>\n",
       "      <td>Hatchback</td>\n",
       "      <td>White</td>\n",
       "      <td>5.0</td>\n",
       "      <td>1.6</td>\n",
       "    </tr>\n",
       "    <tr>\n",
       "      <th>3</th>\n",
       "      <td>https://www.theaa.com/used-cars/cardetails/73-...</td>\n",
       "      <td>https://image.vcars.co.uk/vcarsdna/613039_1.jpg</td>\n",
       "      <td>SV54MDN</td>\n",
       "      <td>2095.0</td>\n",
       "      <td>Mercedes</td>\n",
       "      <td>C Class</td>\n",
       "      <td>88465.0</td>\n",
       "      <td>2004.0</td>\n",
       "      <td>Petrol</td>\n",
       "      <td>Automatic</td>\n",
       "      <td>Saloon</td>\n",
       "      <td>Silver</td>\n",
       "      <td>4.0</td>\n",
       "      <td>1.8</td>\n",
       "    </tr>\n",
       "    <tr>\n",
       "      <th>4</th>\n",
       "      <td>https://www.theaa.com/used-cars/cardetails/73-...</td>\n",
       "      <td>https://image.vcars.co.uk/vcarsdna/613040_1.jpg</td>\n",
       "      <td>LM64BUH</td>\n",
       "      <td>8695.0</td>\n",
       "      <td>Nissan</td>\n",
       "      <td>Juke</td>\n",
       "      <td>39560.0</td>\n",
       "      <td>2014.0</td>\n",
       "      <td>Petrol</td>\n",
       "      <td>Automatic</td>\n",
       "      <td>Hatchback</td>\n",
       "      <td>Grey</td>\n",
       "      <td>5.0</td>\n",
       "      <td>1.6</td>\n",
       "    </tr>\n",
       "  </tbody>\n",
       "</table>\n",
       "</div>"
      ],
      "text/plain": [
       "                                                 URL  \\\n",
       "0  https://www.theaa.com/used-cars/cardetails/73-...   \n",
       "1  https://www.theaa.com/used-cars/cardetails/73-...   \n",
       "2  https://www.theaa.com/used-cars/cardetails/73-...   \n",
       "3  https://www.theaa.com/used-cars/cardetails/73-...   \n",
       "4  https://www.theaa.com/used-cars/cardetails/73-...   \n",
       "\n",
       "                                         image_url license_plate   price  \\\n",
       "0  https://image.vcars.co.uk/vcarsdna/613006_1.jpg       SY17KFO  5295.0   \n",
       "1  https://image.vcars.co.uk/vcarsdna/613050_1.jpg       FT59BXE  4299.0   \n",
       "2  https://image.vcars.co.uk/vcarsdna/613044_1.jpg       LL15XOT  8245.0   \n",
       "3  https://image.vcars.co.uk/vcarsdna/613039_1.jpg       SV54MDN  2095.0   \n",
       "4  https://image.vcars.co.uk/vcarsdna/613040_1.jpg       LM64BUH  8695.0   \n",
       "\n",
       "         make    model  mileage    year fuel_type transmission  body_type  \\\n",
       "0     Peugeot      308  89000.0  2017.0    Diesel       Manual     Estate   \n",
       "1  Volkswagen     Polo  44989.0  2010.0    Petrol       Manual  Hatchback   \n",
       "2      Nissan     Juke  48678.0  2015.0    Petrol    Automatic  Hatchback   \n",
       "3    Mercedes  C Class  88465.0  2004.0    Petrol    Automatic     Saloon   \n",
       "4      Nissan     Juke  39560.0  2014.0    Petrol    Automatic  Hatchback   \n",
       "\n",
       "   colour  doors  engine_size  \n",
       "0    Grey    5.0          1.6  \n",
       "1    Grey    5.0          1.2  \n",
       "2   White    5.0          1.6  \n",
       "3  Silver    4.0          1.8  \n",
       "4    Grey    5.0          1.6  "
      ]
     },
     "execution_count": 4,
     "metadata": {},
     "output_type": "execute_result"
    }
   ],
   "source": [
    "df_car = pd.read_csv('Output Test.csv', index_col=0)\n",
    "df_car.head()"
   ]
  },
  {
   "cell_type": "code",
   "execution_count": 5,
   "metadata": {},
   "outputs": [
    {
     "data": {
      "text/html": [
       "<div>\n",
       "<style scoped>\n",
       "    .dataframe tbody tr th:only-of-type {\n",
       "        vertical-align: middle;\n",
       "    }\n",
       "\n",
       "    .dataframe tbody tr th {\n",
       "        vertical-align: top;\n",
       "    }\n",
       "\n",
       "    .dataframe thead th {\n",
       "        text-align: right;\n",
       "    }\n",
       "</style>\n",
       "<table border=\"1\" class=\"dataframe\">\n",
       "  <thead>\n",
       "    <tr style=\"text-align: right;\">\n",
       "      <th></th>\n",
       "      <th>price</th>\n",
       "      <th>make</th>\n",
       "      <th>mileage</th>\n",
       "      <th>year</th>\n",
       "      <th>fuel_type</th>\n",
       "      <th>transmission</th>\n",
       "      <th>body_type</th>\n",
       "      <th>engine_size</th>\n",
       "    </tr>\n",
       "    <tr>\n",
       "      <th>license_plate</th>\n",
       "      <th></th>\n",
       "      <th></th>\n",
       "      <th></th>\n",
       "      <th></th>\n",
       "      <th></th>\n",
       "      <th></th>\n",
       "      <th></th>\n",
       "      <th></th>\n",
       "    </tr>\n",
       "  </thead>\n",
       "  <tbody>\n",
       "    <tr>\n",
       "      <th>SY17KFO</th>\n",
       "      <td>5295.0</td>\n",
       "      <td>Peugeot</td>\n",
       "      <td>89000.0</td>\n",
       "      <td>2017.0</td>\n",
       "      <td>Diesel</td>\n",
       "      <td>Manual</td>\n",
       "      <td>Estate</td>\n",
       "      <td>1.6</td>\n",
       "    </tr>\n",
       "    <tr>\n",
       "      <th>FT59BXE</th>\n",
       "      <td>4299.0</td>\n",
       "      <td>Volkswagen</td>\n",
       "      <td>44989.0</td>\n",
       "      <td>2010.0</td>\n",
       "      <td>Petrol</td>\n",
       "      <td>Manual</td>\n",
       "      <td>Hatchback</td>\n",
       "      <td>1.2</td>\n",
       "    </tr>\n",
       "    <tr>\n",
       "      <th>LL15XOT</th>\n",
       "      <td>8245.0</td>\n",
       "      <td>Nissan</td>\n",
       "      <td>48678.0</td>\n",
       "      <td>2015.0</td>\n",
       "      <td>Petrol</td>\n",
       "      <td>Automatic</td>\n",
       "      <td>Hatchback</td>\n",
       "      <td>1.6</td>\n",
       "    </tr>\n",
       "    <tr>\n",
       "      <th>SV54MDN</th>\n",
       "      <td>2095.0</td>\n",
       "      <td>Mercedes</td>\n",
       "      <td>88465.0</td>\n",
       "      <td>2004.0</td>\n",
       "      <td>Petrol</td>\n",
       "      <td>Automatic</td>\n",
       "      <td>Saloon</td>\n",
       "      <td>1.8</td>\n",
       "    </tr>\n",
       "    <tr>\n",
       "      <th>LM64BUH</th>\n",
       "      <td>8695.0</td>\n",
       "      <td>Nissan</td>\n",
       "      <td>39560.0</td>\n",
       "      <td>2014.0</td>\n",
       "      <td>Petrol</td>\n",
       "      <td>Automatic</td>\n",
       "      <td>Hatchback</td>\n",
       "      <td>1.6</td>\n",
       "    </tr>\n",
       "    <tr>\n",
       "      <th>YG12LLW</th>\n",
       "      <td>4895.0</td>\n",
       "      <td>Nissan</td>\n",
       "      <td>92200.0</td>\n",
       "      <td>2012.0</td>\n",
       "      <td>Diesel</td>\n",
       "      <td>Manual</td>\n",
       "      <td>Hatchback</td>\n",
       "      <td>1.6</td>\n",
       "    </tr>\n",
       "    <tr>\n",
       "      <th>PF65ONZ</th>\n",
       "      <td>13745.0</td>\n",
       "      <td>Skoda</td>\n",
       "      <td>50046.0</td>\n",
       "      <td>2015.0</td>\n",
       "      <td>Diesel</td>\n",
       "      <td>Semi auto</td>\n",
       "      <td>Estate</td>\n",
       "      <td>2.0</td>\n",
       "    </tr>\n",
       "    <tr>\n",
       "      <th>SK12OTB</th>\n",
       "      <td>4600.0</td>\n",
       "      <td>Nissan</td>\n",
       "      <td>88000.0</td>\n",
       "      <td>2012.0</td>\n",
       "      <td>Petrol</td>\n",
       "      <td>Manual</td>\n",
       "      <td>Hatchback</td>\n",
       "      <td>1.6</td>\n",
       "    </tr>\n",
       "    <tr>\n",
       "      <th>SG61CUJ</th>\n",
       "      <td>2999.0</td>\n",
       "      <td>Renault</td>\n",
       "      <td>57000.0</td>\n",
       "      <td>2011.0</td>\n",
       "      <td>Petrol</td>\n",
       "      <td>Manual</td>\n",
       "      <td>Hatchback</td>\n",
       "      <td>1.1</td>\n",
       "    </tr>\n",
       "  </tbody>\n",
       "</table>\n",
       "</div>"
      ],
      "text/plain": [
       "                 price        make  mileage    year fuel_type transmission  \\\n",
       "license_plate                                                                \n",
       "SY17KFO         5295.0     Peugeot  89000.0  2017.0    Diesel       Manual   \n",
       "FT59BXE         4299.0  Volkswagen  44989.0  2010.0    Petrol       Manual   \n",
       "LL15XOT         8245.0      Nissan  48678.0  2015.0    Petrol    Automatic   \n",
       "SV54MDN         2095.0    Mercedes  88465.0  2004.0    Petrol    Automatic   \n",
       "LM64BUH         8695.0      Nissan  39560.0  2014.0    Petrol    Automatic   \n",
       "YG12LLW         4895.0      Nissan  92200.0  2012.0    Diesel       Manual   \n",
       "PF65ONZ        13745.0       Skoda  50046.0  2015.0    Diesel    Semi auto   \n",
       "SK12OTB         4600.0      Nissan  88000.0  2012.0    Petrol       Manual   \n",
       "SG61CUJ         2999.0     Renault  57000.0  2011.0    Petrol       Manual   \n",
       "\n",
       "               body_type  engine_size  \n",
       "license_plate                          \n",
       "SY17KFO           Estate          1.6  \n",
       "FT59BXE        Hatchback          1.2  \n",
       "LL15XOT        Hatchback          1.6  \n",
       "SV54MDN           Saloon          1.8  \n",
       "LM64BUH        Hatchback          1.6  \n",
       "YG12LLW        Hatchback          1.6  \n",
       "PF65ONZ           Estate          2.0  \n",
       "SK12OTB        Hatchback          1.6  \n",
       "SG61CUJ        Hatchback          1.1  "
      ]
     },
     "execution_count": 5,
     "metadata": {},
     "output_type": "execute_result"
    }
   ],
   "source": [
    "df = df_car[['license_plate', 'price', 'make', 'mileage', 'year', 'fuel_type', 'transmission', 'body_type', 'engine_size']]\n",
    "df.set_index('license_plate', inplace=True)\n",
    "df.head(9)"
   ]
  },
  {
   "cell_type": "code",
   "execution_count": 6,
   "metadata": {},
   "outputs": [
    {
     "name": "stderr",
     "output_type": "stream",
     "text": [
      "<ipython-input-6-a01f11fc839a>:1: SettingWithCopyWarning: \n",
      "A value is trying to be set on a copy of a slice from a DataFrame\n",
      "\n",
      "See the caveats in the documentation: https://pandas.pydata.org/pandas-docs/stable/user_guide/indexing.html#returning-a-view-versus-a-copy\n",
      "  df.dropna(subset=['engine_size'], inplace=True)\n"
     ]
    }
   ],
   "source": [
    "df.dropna(subset=['engine_size'], inplace=True)"
   ]
  },
  {
   "cell_type": "code",
   "execution_count": 7,
   "metadata": {},
   "outputs": [
    {
     "data": {
      "text/plain": [
       "array(['Diesel', 'Petrol', 'Hybrid', 'Electric', 'Petrol/electric',\n",
       "       'Plug_in_hybrid', 'Hybrid electric', 'Petrol hybrid', 'N/a',\n",
       "       'Petrol/plugin elec h', 'Petrol / electric hy', 'Petrol phev',\n",
       "       'Petrol plug-in hybri', 'Diesel hybrid', 'Plug-in hybrid petro',\n",
       "       'Petrol/electric hybr', 'Diesel/plugin elec h', ' ',\n",
       "       'Petrol plugin hybrid'], dtype=object)"
      ]
     },
     "execution_count": 7,
     "metadata": {},
     "output_type": "execute_result"
    }
   ],
   "source": [
    "df['fuel_type'].unique()"
   ]
  },
  {
   "cell_type": "code",
   "execution_count": 8,
   "metadata": {},
   "outputs": [
    {
     "name": "stderr",
     "output_type": "stream",
     "text": [
      "/Users/dorasun/opt/anaconda3/lib/python3.8/site-packages/pandas/core/series.py:4509: SettingWithCopyWarning: \n",
      "A value is trying to be set on a copy of a slice from a DataFrame\n",
      "\n",
      "See the caveats in the documentation: https://pandas.pydata.org/pandas-docs/stable/user_guide/indexing.html#returning-a-view-versus-a-copy\n",
      "  return super().replace(\n"
     ]
    }
   ],
   "source": [
    "df['fuel_type'].replace(dict.fromkeys(['Petrol/electric', 'Plug_in_hybrid', 'Hybrid electric', 'Petrol hybrid', 'Petrol/plugin elec h', 'Petrol / electric hy', 'Petrol phev','Petrol plug-in hybri', 'Diesel hybrid', 'Plug-in hybrid petro','Petrol/electric hybr', 'Diesel/plugin elec h', 'Petrol plugin hybrid'], 'Hybrid'), inplace=True)\n",
    "df['fuel_type'].replace(dict.fromkeys([' ', 'N/a'], np.NaN), inplace=True)"
   ]
  },
  {
   "cell_type": "code",
   "execution_count": 9,
   "metadata": {},
   "outputs": [
    {
     "data": {
      "text/plain": [
       "array(['Diesel', 'Petrol', 'Hybrid', 'Electric', nan], dtype=object)"
      ]
     },
     "execution_count": 9,
     "metadata": {},
     "output_type": "execute_result"
    }
   ],
   "source": [
    "df['fuel_type'].unique()"
   ]
  },
  {
   "cell_type": "code",
   "execution_count": 10,
   "metadata": {},
   "outputs": [
    {
     "data": {
      "text/plain": [
       "price            0\n",
       "make             0\n",
       "mileage          0\n",
       "year             0\n",
       "fuel_type       44\n",
       "transmission     0\n",
       "body_type        0\n",
       "engine_size      0\n",
       "dtype: int64"
      ]
     },
     "execution_count": 10,
     "metadata": {},
     "output_type": "execute_result"
    }
   ],
   "source": [
    "df.isna().sum()"
   ]
  },
  {
   "cell_type": "code",
   "execution_count": 11,
   "metadata": {},
   "outputs": [
    {
     "name": "stderr",
     "output_type": "stream",
     "text": [
      "<ipython-input-11-368ed62179d3>:1: SettingWithCopyWarning: \n",
      "A value is trying to be set on a copy of a slice from a DataFrame\n",
      "\n",
      "See the caveats in the documentation: https://pandas.pydata.org/pandas-docs/stable/user_guide/indexing.html#returning-a-view-versus-a-copy\n",
      "  df.dropna(subset=['fuel_type'], inplace=True)\n"
     ]
    }
   ],
   "source": [
    "df.dropna(subset=['fuel_type'], inplace=True)"
   ]
  },
  {
   "cell_type": "code",
   "execution_count": 12,
   "metadata": {},
   "outputs": [
    {
     "data": {
      "text/plain": [
       "array(['Manual', 'Automatic', 'Semi auto', 'Semiauto', 'Unknown', 'Cvt',\n",
       "       'Semiautomatic', 'N/a', 'Semi automatic', 'Semi-automatic',\n",
       "       'Semi-auto', 'Semi'], dtype=object)"
      ]
     },
     "execution_count": 12,
     "metadata": {},
     "output_type": "execute_result"
    }
   ],
   "source": [
    "df['transmission'].unique()"
   ]
  },
  {
   "cell_type": "code",
   "execution_count": 13,
   "metadata": {},
   "outputs": [
    {
     "name": "stderr",
     "output_type": "stream",
     "text": [
      "/Users/dorasun/opt/anaconda3/lib/python3.8/site-packages/pandas/core/series.py:4509: SettingWithCopyWarning: \n",
      "A value is trying to be set on a copy of a slice from a DataFrame\n",
      "\n",
      "See the caveats in the documentation: https://pandas.pydata.org/pandas-docs/stable/user_guide/indexing.html#returning-a-view-versus-a-copy\n",
      "  return super().replace(\n"
     ]
    }
   ],
   "source": [
    "df['transmission'].replace(dict.fromkeys(['Semi auto', 'Semiauto', 'Cvt','Semiautomatic', 'Semi automatic', 'Semi-automatic', 'Semi'], 'Semi-auto'), inplace=True)\n",
    "df['transmission'].replace(dict.fromkeys(['Not specified', 'N/a', 'Unknown'], np.NaN), inplace=True)"
   ]
  },
  {
   "cell_type": "code",
   "execution_count": 14,
   "metadata": {},
   "outputs": [
    {
     "data": {
      "text/plain": [
       "array(['Manual', 'Automatic', 'Semi-auto', nan], dtype=object)"
      ]
     },
     "execution_count": 14,
     "metadata": {},
     "output_type": "execute_result"
    }
   ],
   "source": [
    "df['transmission'].unique()"
   ]
  },
  {
   "cell_type": "code",
   "execution_count": 15,
   "metadata": {},
   "outputs": [
    {
     "data": {
      "text/plain": [
       "price            0\n",
       "make             0\n",
       "mileage          0\n",
       "year             0\n",
       "fuel_type        0\n",
       "transmission    16\n",
       "body_type        0\n",
       "engine_size      0\n",
       "dtype: int64"
      ]
     },
     "execution_count": 15,
     "metadata": {},
     "output_type": "execute_result"
    }
   ],
   "source": [
    "df.isna().sum()"
   ]
  },
  {
   "cell_type": "code",
   "execution_count": 16,
   "metadata": {},
   "outputs": [
    {
     "name": "stderr",
     "output_type": "stream",
     "text": [
      "<ipython-input-16-0dd959c8e6e8>:1: SettingWithCopyWarning: \n",
      "A value is trying to be set on a copy of a slice from a DataFrame\n",
      "\n",
      "See the caveats in the documentation: https://pandas.pydata.org/pandas-docs/stable/user_guide/indexing.html#returning-a-view-versus-a-copy\n",
      "  df.dropna(subset=['transmission'], inplace=True)\n"
     ]
    }
   ],
   "source": [
    "df.dropna(subset=['transmission'], inplace=True)"
   ]
  },
  {
   "cell_type": "code",
   "execution_count": 17,
   "metadata": {},
   "outputs": [
    {
     "data": {
      "text/plain": [
       "array(['Estate', 'Hatchback', 'Saloon', 'Mpv', 'Panel van',\n",
       "       'Car derived van', 'Suv', 'Convertible', 'Pickup', 'Coupe', 'Van',\n",
       "       'Krew cab', 'Na', '5 door hatchback', 'Pick-up',\n",
       "       '3 door hatchback', 'Combi van', 'Temperature controlled', 'Truck',\n",
       "       'High volume/high roof van', 'Dropside', 'Double cab pick-up',\n",
       "       'Station wagon', 'Roadster', 'Luton', 'Tipper', 'Medium roof van',\n",
       "       'Other', '4x4', 'Off-roader', 'Cabriolet/roadster', 'Limousine',\n",
       "       'Compact saloon', 'Campervan', 'Sports', 'N/a', 'Pick up',\n",
       "       'Swb panel van', 'Chassis cab', 'Crossover', 'Van swb',\n",
       "       'Cabriolet', 'Curtainside', 'Crew bus', 'Commercial',\n",
       "       'Sports tourer', 'Hatch', 'Window van', 'All terrain',\n",
       "       'Double cab tipper', 'Van - swb', 'Panel van lwb', 'Mwb panel van',\n",
       "       'Lwb panel van', 'Cars', 'Light 4x4 utility', 'Medium vans',\n",
       "       'Coupe-convertible', 'Standard roof minibus', 'Minibus',\n",
       "       'Dropside pickups', 'Camper van motorhome',\n",
       "       'Van with side windows', '4 door saloon', 'Van lwb',\n",
       "       'Four wheel drive', 'Crew cab', 'High roof minibus',\n",
       "       'Convertibles', 'Transit custom', 'Medium van', 'Crewcab pickup',\n",
       "       'Large vans', 'Double cab van', 'People carrier', 'Hook loader',\n",
       "       'Sports car'], dtype=object)"
      ]
     },
     "execution_count": 17,
     "metadata": {},
     "output_type": "execute_result"
    }
   ],
   "source": [
    "df['body_type'].unique()"
   ]
  },
  {
   "cell_type": "code",
   "execution_count": 18,
   "metadata": {},
   "outputs": [
    {
     "name": "stderr",
     "output_type": "stream",
     "text": [
      "/Users/dorasun/opt/anaconda3/lib/python3.8/site-packages/pandas/core/series.py:4509: SettingWithCopyWarning: \n",
      "A value is trying to be set on a copy of a slice from a DataFrame\n",
      "\n",
      "See the caveats in the documentation: https://pandas.pydata.org/pandas-docs/stable/user_guide/indexing.html#returning-a-view-versus-a-copy\n",
      "  return super().replace(\n"
     ]
    }
   ],
   "source": [
    "df['body_type'].replace(dict.fromkeys(['Other', 'N/a', 'Na', 'Temperature controlled', 'Cars', 'car', 'Truck', 'Limousine'], np.NaN), inplace=True)\n",
    "df['body_type'].replace(dict.fromkeys(['Window van', 'Standard roof minibus', 'Van with side windows', 'High roof minibus', \n",
    "'Medium vans', 'Camper van motorhome', 'Large vans', 'Krew cab', 'Crew bus', 'Crew cab', 'Double cab van', 'Dropside', 'Tipper',\n",
    "'Chassis cab', 'Double cab tipper', 'Hook loader', 'High volume/high roof van', 'Luton', 'Curtainside', 'Swb panel van', 'Van swb', \n",
    "'Van - swb', 'Panel van lwb', 'Mwb panel van', 'Lwb panel van', 'Van lwb', 'Transit custom', 'Double cab pick-up', 'Pick up', \n",
    "'Dropside pickups', 'Crewcab pickup', 'Medium roof van','Medium vans',  'All terrain', 'Minibus', 'Van', 'Pick-up', 'Medium van', 'Pickup',\n",
    "'Combi van', 'Campervan', 'Station wagon', 'Panel van'], 'van'), inplace=True)\n",
    "df['body_type'].replace(dict.fromkeys(['Sports tourer' ], 'Estate'), inplace=True)\n",
    "df['body_type'].replace(dict.fromkeys(['Compact saloon', '4 door saloon'], 'Saloon'), inplace=True)\n",
    "df['body_type'].replace(dict.fromkeys(['People carrier', 'Commercial', 'Car derived van'], 'Mpv'), inplace=True)\n",
    "df['body_type'].replace(dict.fromkeys(['Cabriolet', 'Coupe-convertible', 'Convertibles', 'Cabriolet/roadster', 'Sports car', 'Sports', 'Roadster'], 'Convertible'), inplace=True)\n",
    "df['body_type'].replace(dict.fromkeys(['Off-roader', 'Light 4x4 utility', 'Four wheel drive', 'Crossover', '4x4'], 'Suv'), inplace=True)\n",
    "df['body_type'].replace(dict.fromkeys(['5 door hatchback', 'Hatch', '3 door hatchback'], 'Hatchback'), inplace=True)\n"
   ]
  },
  {
   "cell_type": "code",
   "execution_count": 19,
   "metadata": {},
   "outputs": [
    {
     "data": {
      "text/plain": [
       "array(['Estate', 'Hatchback', 'Saloon', 'Mpv', 'van', 'Suv',\n",
       "       'Convertible', 'Coupe', nan], dtype=object)"
      ]
     },
     "execution_count": 19,
     "metadata": {},
     "output_type": "execute_result"
    }
   ],
   "source": [
    "df['body_type'].unique()"
   ]
  },
  {
   "cell_type": "code",
   "execution_count": 20,
   "metadata": {},
   "outputs": [
    {
     "data": {
      "text/plain": [
       "price            0\n",
       "make             0\n",
       "mileage          0\n",
       "year             0\n",
       "fuel_type        0\n",
       "transmission     0\n",
       "body_type       53\n",
       "engine_size      0\n",
       "dtype: int64"
      ]
     },
     "execution_count": 20,
     "metadata": {},
     "output_type": "execute_result"
    }
   ],
   "source": [
    "df.isna().sum()"
   ]
  },
  {
   "cell_type": "code",
   "execution_count": 21,
   "metadata": {},
   "outputs": [
    {
     "name": "stderr",
     "output_type": "stream",
     "text": [
      "<ipython-input-21-e818855502a5>:1: SettingWithCopyWarning: \n",
      "A value is trying to be set on a copy of a slice from a DataFrame\n",
      "\n",
      "See the caveats in the documentation: https://pandas.pydata.org/pandas-docs/stable/user_guide/indexing.html#returning-a-view-versus-a-copy\n",
      "  df.dropna(subset=['body_type'], inplace=True)\n",
      "/Users/dorasun/opt/anaconda3/lib/python3.8/site-packages/pandas/core/frame.py:4308: SettingWithCopyWarning: \n",
      "A value is trying to be set on a copy of a slice from a DataFrame\n",
      "\n",
      "See the caveats in the documentation: https://pandas.pydata.org/pandas-docs/stable/user_guide/indexing.html#returning-a-view-versus-a-copy\n",
      "  return super().drop(\n"
     ]
    }
   ],
   "source": [
    "df.dropna(subset=['body_type'], inplace=True)\n",
    "index_btype = df[df['body_type'].str.contains('van')].index\n",
    "df.drop(index_btype, inplace = True)"
   ]
  },
  {
   "cell_type": "code",
   "execution_count": 22,
   "metadata": {},
   "outputs": [
    {
     "data": {
      "text/plain": [
       "Hatchback      8204\n",
       "Suv            3799\n",
       "Estate         1864\n",
       "Saloon          960\n",
       "Mpv             560\n",
       "Coupe           554\n",
       "Convertible     418\n",
       "Name: body_type, dtype: int64"
      ]
     },
     "execution_count": 22,
     "metadata": {},
     "output_type": "execute_result"
    }
   ],
   "source": [
    "df['body_type'].value_counts()"
   ]
  },
  {
   "cell_type": "code",
   "execution_count": 23,
   "metadata": {},
   "outputs": [
    {
     "data": {
      "text/plain": [
       "array(['Peugeot', 'Volkswagen', 'Nissan', 'Mercedes', 'Skoda', 'Renault',\n",
       "       'Volvo', 'MINI', 'Vauxhall', 'Land Rover', 'Ford', 'Kia', 'Honda',\n",
       "       'Lexus', 'Fiat', 'Hyundai', 'DS', 'BMW', 'Audi', 'Dacia',\n",
       "       'Citroen', 'Abarth', 'Infiniti', 'Toyota', 'Suzuki', 'Subaru',\n",
       "       'Smart', 'Ssangyong', 'SEAT', 'Rolls Royce', 'Porsche',\n",
       "       'Mitsubishi', 'MG', 'Mercedes-Benz', 'Mazda', 'Maserati', 'Jaguar',\n",
       "       'Jeep', 'HYUNDAI', 'RENAULT', 'DACIA', 'KIA', 'VAUXHALL', 'Bmw',\n",
       "       'SKODA', 'Seat', 'Mini', 'SSANGYONG', 'FORD', 'SUZUKI', 'SUBARU',\n",
       "       'VOLKSWAGEN', 'NISSAN', 'CHRYSLER', 'SAAB', 'VOLVO', 'HONDA',\n",
       "       'MERCEDES-BENZ', 'Alfa Romeo', 'DS Automobiles', 'CITROEN',\n",
       "       'DS AUTOMOBILES', 'AUDI', 'SsangYong', 'FIAT', 'TOYOTA', 'PEUGEOT',\n",
       "       'Mercedes Benz', 'LAND ROVER', 'Ds', 'PORSCHE', 'MAZDA',\n",
       "       'Daihatsu', 'Chevrolet', 'Bentley', 'SMART', 'MITSUBISHI', 'JEEP',\n",
       "       'JAGUAR', 'CHEVROLET', 'Chrysler', 'Dodge', 'Ferrari', 'Perodua',\n",
       "       'Saab', 'MCLAREN', 'INFINITI', 'ABARTH', 'LEXUS', 'BENTLEY',\n",
       "       'ALFA ROMEO', 'MG Motor UK', 'PERODUA', 'Aston Martin', 'DODGE',\n",
       "       'smart'], dtype=object)"
      ]
     },
     "execution_count": 23,
     "metadata": {},
     "output_type": "execute_result"
    }
   ],
   "source": [
    "df['make'].unique()"
   ]
  },
  {
   "cell_type": "code",
   "execution_count": 24,
   "metadata": {},
   "outputs": [
    {
     "name": "stderr",
     "output_type": "stream",
     "text": [
      "<ipython-input-24-744c3081ba2d>:1: SettingWithCopyWarning: \n",
      "A value is trying to be set on a copy of a slice from a DataFrame.\n",
      "Try using .loc[row_indexer,col_indexer] = value instead\n",
      "\n",
      "See the caveats in the documentation: https://pandas.pydata.org/pandas-docs/stable/user_guide/indexing.html#returning-a-view-versus-a-copy\n",
      "  df['make'] = df['make'].apply(lambda x: x.upper())\n"
     ]
    }
   ],
   "source": [
    "df['make'] = df['make'].apply(lambda x: x.upper())"
   ]
  },
  {
   "cell_type": "code",
   "execution_count": 25,
   "metadata": {},
   "outputs": [
    {
     "data": {
      "text/plain": [
       "array(['PEUGEOT', 'VOLKSWAGEN', 'NISSAN', 'MERCEDES', 'SKODA', 'RENAULT',\n",
       "       'VOLVO', 'MINI', 'VAUXHALL', 'LAND ROVER', 'FORD', 'KIA', 'HONDA',\n",
       "       'LEXUS', 'FIAT', 'HYUNDAI', 'DS', 'BMW', 'AUDI', 'DACIA',\n",
       "       'CITROEN', 'ABARTH', 'INFINITI', 'TOYOTA', 'SUZUKI', 'SUBARU',\n",
       "       'SMART', 'SSANGYONG', 'SEAT', 'ROLLS ROYCE', 'PORSCHE',\n",
       "       'MITSUBISHI', 'MG', 'MERCEDES-BENZ', 'MAZDA', 'MASERATI', 'JAGUAR',\n",
       "       'JEEP', 'CHRYSLER', 'SAAB', 'ALFA ROMEO', 'DS AUTOMOBILES',\n",
       "       'MERCEDES BENZ', 'DAIHATSU', 'CHEVROLET', 'BENTLEY', 'DODGE',\n",
       "       'FERRARI', 'PERODUA', 'MCLAREN', 'MG MOTOR UK', 'ASTON MARTIN'],\n",
       "      dtype=object)"
      ]
     },
     "execution_count": 25,
     "metadata": {},
     "output_type": "execute_result"
    }
   ],
   "source": [
    "df['make'].unique()"
   ]
  },
  {
   "cell_type": "code",
   "execution_count": 26,
   "metadata": {},
   "outputs": [
    {
     "name": "stderr",
     "output_type": "stream",
     "text": [
      "/Users/dorasun/opt/anaconda3/lib/python3.8/site-packages/pandas/core/series.py:4509: SettingWithCopyWarning: \n",
      "A value is trying to be set on a copy of a slice from a DataFrame\n",
      "\n",
      "See the caveats in the documentation: https://pandas.pydata.org/pandas-docs/stable/user_guide/indexing.html#returning-a-view-versus-a-copy\n",
      "  return super().replace(\n"
     ]
    }
   ],
   "source": [
    "df['make'].replace(dict.fromkeys(['MERCEDES-BENZ', 'MERCEDES BENZ'], 'MERCEDES'), inplace=True)\n",
    "df['make'].replace('DS AUTOMOBILES', 'DS', inplace=True)\n",
    "df['make'].replace('MG MOTOR UK', 'MG', inplace=True)"
   ]
  },
  {
   "cell_type": "code",
   "execution_count": 27,
   "metadata": {},
   "outputs": [
    {
     "data": {
      "text/plain": [
       "array(['PEUGEOT', 'VOLKSWAGEN', 'NISSAN', 'MERCEDES', 'SKODA', 'RENAULT',\n",
       "       'VOLVO', 'MINI', 'VAUXHALL', 'LAND ROVER', 'FORD', 'KIA', 'HONDA',\n",
       "       'LEXUS', 'FIAT', 'HYUNDAI', 'DS', 'BMW', 'AUDI', 'DACIA',\n",
       "       'CITROEN', 'ABARTH', 'INFINITI', 'TOYOTA', 'SUZUKI', 'SUBARU',\n",
       "       'SMART', 'SSANGYONG', 'SEAT', 'ROLLS ROYCE', 'PORSCHE',\n",
       "       'MITSUBISHI', 'MG', 'MAZDA', 'MASERATI', 'JAGUAR', 'JEEP',\n",
       "       'CHRYSLER', 'SAAB', 'ALFA ROMEO', 'DAIHATSU', 'CHEVROLET',\n",
       "       'BENTLEY', 'DODGE', 'FERRARI', 'PERODUA', 'MCLAREN',\n",
       "       'ASTON MARTIN'], dtype=object)"
      ]
     },
     "execution_count": 27,
     "metadata": {},
     "output_type": "execute_result"
    }
   ],
   "source": [
    "df['make'].unique()\n"
   ]
  },
  {
   "cell_type": "code",
   "execution_count": 28,
   "metadata": {},
   "outputs": [
    {
     "data": {
      "text/plain": [
       "FORD            0.110215\n",
       "VOLKSWAGEN      0.099517\n",
       "VAUXHALL        0.087047\n",
       "MERCEDES        0.083196\n",
       "AUDI            0.054527\n",
       "NISSAN          0.052693\n",
       "BMW             0.047680\n",
       "SKODA           0.042668\n",
       "PEUGEOT         0.042240\n",
       "LAND ROVER      0.033560\n",
       "TOYOTA          0.032215\n",
       "HYUNDAI         0.031909\n",
       "VOLVO           0.031787\n",
       "KIA             0.030686\n",
       "SEAT            0.027263\n",
       "HONDA           0.027141\n",
       "RENAULT         0.024757\n",
       "MINI            0.021578\n",
       "CITROEN         0.020661\n",
       "JAGUAR          0.014610\n",
       "FIAT            0.014549\n",
       "MAZDA           0.014182\n",
       "SUZUKI          0.013265\n",
       "LEXUS           0.007458\n",
       "MITSUBISHI      0.005807\n",
       "DACIA           0.005746\n",
       "PORSCHE         0.004707\n",
       "JEEP            0.002934\n",
       "SMART           0.002751\n",
       "DS              0.002384\n",
       "MG              0.002078\n",
       "ABARTH          0.001406\n",
       "SUBARU          0.001161\n",
       "ALFA ROMEO      0.001100\n",
       "CHEVROLET       0.000734\n",
       "SSANGYONG       0.000672\n",
       "BENTLEY         0.000611\n",
       "MASERATI        0.000489\n",
       "INFINITI        0.000489\n",
       "CHRYSLER        0.000428\n",
       "SAAB            0.000367\n",
       "DODGE           0.000245\n",
       "DAIHATSU        0.000122\n",
       "PERODUA         0.000122\n",
       "FERRARI         0.000061\n",
       "ASTON MARTIN    0.000061\n",
       "MCLAREN         0.000061\n",
       "ROLLS ROYCE     0.000061\n",
       "Name: make, dtype: float64"
      ]
     },
     "execution_count": 28,
     "metadata": {},
     "output_type": "execute_result"
    }
   ],
   "source": [
    "df['make'].value_counts(normalize=True)"
   ]
  },
  {
   "cell_type": "code",
   "execution_count": 29,
   "metadata": {},
   "outputs": [
    {
     "name": "stderr",
     "output_type": "stream",
     "text": [
      "<ipython-input-29-c00f582c66c5>:1: SettingWithCopyWarning: \n",
      "A value is trying to be set on a copy of a slice from a DataFrame.\n",
      "Try using .loc[row_indexer,col_indexer] = value instead\n",
      "\n",
      "See the caveats in the documentation: https://pandas.pydata.org/pandas-docs/stable/user_guide/indexing.html#returning-a-view-versus-a-copy\n",
      "  df['car_tier'] = df['make']\n"
     ]
    },
    {
     "data": {
      "text/plain": [
       "'T1T2T3'"
      ]
     },
     "execution_count": 29,
     "metadata": {},
     "output_type": "execute_result"
    }
   ],
   "source": [
    "df['car_tier'] = df['make']\n",
    "df['car_tier'].replace(dict.fromkeys(['MERCEDES', 'AUDI', 'PEUGEOT', 'LAND ROVER', 'JAGUAR', 'LEXUS', 'PORSCHE', 'BENTLEY', 'MASERATI', 'INFINITI', \n",
    "'ROLLS ROYCE', 'FERRARI', 'ASTON MARTIN', 'MCLAREN', 'BMW'], 'T1'), inplace=True)\n",
    "df['car_tier'].replace(dict.fromkeys(['VOLKSWAGEN', 'VOLVO', 'MINI', 'MITSUBISHI', 'HONDA', 'JEEP', 'DS', 'RENAULT', 'SUBARU', 'ALFA ROMEO', 'SAAB', 'DODGE'], 'T2'), inplace=True)\n",
    "df['car_tier'].replace(dict.fromkeys(['FORD', 'VAUXHALL', 'NISSAN', 'SKODA', 'TOYOTA', 'HYUNDAI', 'SEAT', 'SMART', 'CITROEN', \n",
    "'FIAT', 'ABARTH', 'KIA', 'MAZDA', 'SUZUKI', 'DACIA', 'MG', 'ABARTH', 'CHEVROLET', 'SSANGYONG', 'CHRYSLER', 'PERODUA', 'DAIHATSU'], 'T3'), inplace=True)\n",
    "df['car_tier'].unique().sum()"
   ]
  },
  {
   "cell_type": "code",
   "execution_count": 30,
   "metadata": {},
   "outputs": [
    {
     "data": {
      "text/plain": [
       "T3    8039\n",
       "T1    4741\n",
       "T2    3579\n",
       "Name: car_tier, dtype: int64"
      ]
     },
     "execution_count": 30,
     "metadata": {},
     "output_type": "execute_result"
    }
   ],
   "source": [
    "df['car_tier'].value_counts()"
   ]
  },
  {
   "cell_type": "code",
   "execution_count": 31,
   "metadata": {},
   "outputs": [
    {
     "data": {
      "text/plain": [
       "license_plate\n",
       "SY17KFO    1.6\n",
       "FT59BXE    1.2\n",
       "LL15XOT    1.6\n",
       "SV54MDN    1.8\n",
       "LM64BUH    1.6\n",
       "          ... \n",
       "YF04HFH    3.2\n",
       "NK15VUW    2.0\n",
       "BX14UER    1.4\n",
       "LT17MVA    1.4\n",
       "DL66HTT    1.6\n",
       "Name: engine_size, Length: 16359, dtype: float64"
      ]
     },
     "execution_count": 31,
     "metadata": {},
     "output_type": "execute_result"
    }
   ],
   "source": [
    "df['engine_size']"
   ]
  },
  {
   "cell_type": "code",
   "execution_count": 32,
   "metadata": {},
   "outputs": [
    {
     "data": {
      "text/plain": [
       "array([1.6, 1.2, 1.8, 2. , 1.1, 2.1, 1.7, 1. , 2.5, 1.4, 3.3, 1.5, 1.3,\n",
       "       2.2, 3. , 0.9, 2.4, 6.6, 2.9, 4. , 3.6, 2.7, 3.7, 5.5, 5. , 3.5,\n",
       "       4.4, 2.8, 2.3, 1.9, 0.8, 4.1, 3.2, 4.8, 4.2, 4.7, 3.4, 4.5, 6.2,\n",
       "       6.8, 6.3, 2.6, 3.8, 5.7, 5.2, 0.6, 6. , 4.3])"
      ]
     },
     "execution_count": 32,
     "metadata": {},
     "output_type": "execute_result"
    }
   ],
   "source": [
    "df['engine_size'].unique()"
   ]
  },
  {
   "cell_type": "code",
   "execution_count": 33,
   "metadata": {},
   "outputs": [
    {
     "name": "stderr",
     "output_type": "stream",
     "text": [
      "<ipython-input-33-ed84ed764487>:1: SettingWithCopyWarning: \n",
      "A value is trying to be set on a copy of a slice from a DataFrame.\n",
      "Try using .loc[row_indexer,col_indexer] = value instead\n",
      "\n",
      "See the caveats in the documentation: https://pandas.pydata.org/pandas-docs/stable/user_guide/indexing.html#returning-a-view-versus-a-copy\n",
      "  df['engine_tier'] = df['engine_size']\n"
     ]
    }
   ],
   "source": [
    "df['engine_tier'] = df['engine_size']\n",
    "df['engine_tier'].replace(dict.fromkeys([0.9, 0.8, 0.6, 1.0], '0-1L'), inplace=True)\n",
    "df['engine_tier'].replace(dict.fromkeys([1.6, 1.2, 1.8, 1.1, 1.7, 1.4, 1.5, 1.3, 1.9, 2. ], '1-2L'), inplace=True)\n",
    "df['engine_tier'].replace(dict.fromkeys([2.1, 2.5, 2.2, 3. , 2.4, 2.9, 2.7, 2.8, 2.3, 2.6], '2-3L'), inplace=True)\n",
    "df['engine_tier'].replace(dict.fromkeys([3.3, 6.6, 4. , 3.6, 3.7, 5.5, 5. , 3.5, 4.4, 4.1, 3.2, 4.8, 4.2, 4.7, 3.4, 4.5, 6.2,6.8, 6.3, 3.8, 5.7, 5.2, 4.3, 6. ], '>3L'), inplace=True)"
   ]
  },
  {
   "cell_type": "code",
   "execution_count": 34,
   "metadata": {},
   "outputs": [
    {
     "data": {
      "text/plain": [
       "1-2L    11958\n",
       "0-1L     2469\n",
       "2-3L     1709\n",
       ">3L       223\n",
       "Name: engine_tier, dtype: int64"
      ]
     },
     "execution_count": 34,
     "metadata": {},
     "output_type": "execute_result"
    }
   ],
   "source": [
    "df['engine_tier'].value_counts()"
   ]
  },
  {
   "cell_type": "code",
   "execution_count": 35,
   "metadata": {},
   "outputs": [
    {
     "data": {
      "text/plain": [
       "license_plate\n",
       "SY17KFO    2017.0\n",
       "FT59BXE    2010.0\n",
       "LL15XOT    2015.0\n",
       "SV54MDN    2004.0\n",
       "LM64BUH    2014.0\n",
       "            ...  \n",
       "YF04HFH    2004.0\n",
       "NK15VUW    2015.0\n",
       "BX14UER    2014.0\n",
       "LT17MVA    2017.0\n",
       "DL66HTT    2016.0\n",
       "Name: year, Length: 16359, dtype: object"
      ]
     },
     "execution_count": 35,
     "metadata": {},
     "output_type": "execute_result"
    }
   ],
   "source": [
    "df['year'].unique()\n",
    "df['year'].astype(str)"
   ]
  },
  {
   "cell_type": "code",
   "execution_count": 36,
   "metadata": {},
   "outputs": [],
   "source": [
    "df['year'].replace(19, 2019, inplace=True)\n",
    "df['year'].replace(21, 2021, inplace=True)\n",
    "df['year'].replace(70, 1970, inplace=True)\n",
    "df['year'].replace(69, 1969, inplace=True)\n",
    "df['year'].replace(18, 2018, inplace=True)\n",
    "df['year'].replace(68, 1968, inplace=True)\n",
    "df['year'].replace(17, 2017, inplace=True)\n",
    "df['year'].replace(12, 2012, inplace=True)\n",
    "df['year'].replace(65, 1965, inplace=True)\n",
    "df['year'].replace(66, 1966, inplace=True)\n",
    "df['year'].replace(67, 1967, inplace=True)\n",
    "df['year'].replace(16, 2016, inplace=True)\n",
    "df['year'].replace(64, 1964, inplace=True)\n",
    "df['year'].replace(20, 2020, inplace=True)\n",
    "df['year'].replace(15, 2015, inplace=True)\n",
    "df['year'].replace(14, 2014, inplace=True)\n",
    "df['year'].replace(10, 2010, inplace=True)\n",
    "df['year'].replace(13, 2013, inplace=True)\n",
    "df['year'].replace(62, 1962, inplace=True)\n",
    "df['year'].replace(0, np.nan, inplace=True)"
   ]
  },
  {
   "cell_type": "code",
   "execution_count": 37,
   "metadata": {},
   "outputs": [
    {
     "data": {
      "text/plain": [
       "array([2017., 2010., 2015., 2004., 2014., 2012., 2011., 2007., 2013.,\n",
       "       2006., 2008., 2005., 2009., 2018., 2019., 2016., 2020., 2021.,\n",
       "       2003., 2000., 2002., 1972., 1970., 1969., 1968., 1965., 1966.,\n",
       "       1967., 1964., 1962.,   nan, 2001., 1998., 1999., 1996., 1974.,\n",
       "       1997.])"
      ]
     },
     "execution_count": 37,
     "metadata": {},
     "output_type": "execute_result"
    }
   ],
   "source": [
    "df['year'].unique()"
   ]
  },
  {
   "cell_type": "code",
   "execution_count": 38,
   "metadata": {},
   "outputs": [
    {
     "data": {
      "text/plain": [
       "3"
      ]
     },
     "execution_count": 38,
     "metadata": {},
     "output_type": "execute_result"
    }
   ],
   "source": [
    "df['year'].isna().sum()"
   ]
  },
  {
   "cell_type": "code",
   "execution_count": 39,
   "metadata": {},
   "outputs": [
    {
     "name": "stderr",
     "output_type": "stream",
     "text": [
      "<ipython-input-39-e283a4519d2a>:1: SettingWithCopyWarning: \n",
      "A value is trying to be set on a copy of a slice from a DataFrame\n",
      "\n",
      "See the caveats in the documentation: https://pandas.pydata.org/pandas-docs/stable/user_guide/indexing.html#returning-a-view-versus-a-copy\n",
      "  df.dropna(subset=['year'], inplace=True)\n"
     ]
    }
   ],
   "source": [
    "df.dropna(subset=['year'], inplace=True)"
   ]
  },
  {
   "cell_type": "code",
   "execution_count": 40,
   "metadata": {},
   "outputs": [
    {
     "data": {
      "text/plain": [
       "2018.0    0.183419\n",
       "2019.0    0.123869\n",
       "2017.0    0.121362\n",
       "2020.0    0.103632\n",
       "2016.0    0.082111\n",
       "2015.0    0.072328\n",
       "2021.0    0.069210\n",
       "2014.0    0.060345\n",
       "2013.0    0.039802\n",
       "2012.0    0.032710\n",
       "2011.0    0.026290\n",
       "2010.0    0.024089\n",
       "2009.0    0.016080\n",
       "2008.0    0.012717\n",
       "2007.0    0.011922\n",
       "2006.0    0.007765\n",
       "2005.0    0.003424\n",
       "2004.0    0.002629\n",
       "2003.0    0.001590\n",
       "2002.0    0.001039\n",
       "1968.0    0.000673\n",
       "2001.0    0.000550\n",
       "1965.0    0.000428\n",
       "2000.0    0.000367\n",
       "1967.0    0.000306\n",
       "1970.0    0.000245\n",
       "1999.0    0.000245\n",
       "1964.0    0.000183\n",
       "1966.0    0.000183\n",
       "1969.0    0.000122\n",
       "1972.0    0.000061\n",
       "1974.0    0.000061\n",
       "1962.0    0.000061\n",
       "1998.0    0.000061\n",
       "1996.0    0.000061\n",
       "1997.0    0.000061\n",
       "Name: year, dtype: float64"
      ]
     },
     "execution_count": 40,
     "metadata": {},
     "output_type": "execute_result"
    }
   ],
   "source": [
    "df['year'].value_counts(normalize=True)\n"
   ]
  },
  {
   "cell_type": "code",
   "execution_count": 41,
   "metadata": {},
   "outputs": [
    {
     "name": "stderr",
     "output_type": "stream",
     "text": [
      "<ipython-input-41-5c12c349ff5a>:1: SettingWithCopyWarning: \n",
      "A value is trying to be set on a copy of a slice from a DataFrame.\n",
      "Try using .loc[row_indexer,col_indexer] = value instead\n",
      "\n",
      "See the caveats in the documentation: https://pandas.pydata.org/pandas-docs/stable/user_guide/indexing.html#returning-a-view-versus-a-copy\n",
      "  df['year_band'] = df['year']\n",
      "/Users/dorasun/opt/anaconda3/lib/python3.8/site-packages/pandas/core/series.py:4509: SettingWithCopyWarning: \n",
      "A value is trying to be set on a copy of a slice from a DataFrame\n",
      "\n",
      "See the caveats in the documentation: https://pandas.pydata.org/pandas-docs/stable/user_guide/indexing.html#returning-a-view-versus-a-copy\n",
      "  return super().replace(\n"
     ]
    },
    {
     "data": {
      "text/plain": [
       "2015-2019    9537\n",
       "2010-2014    2997\n",
       ">2020        2827\n",
       "<2010         995\n",
       "Name: year_band, dtype: int64"
      ]
     },
     "execution_count": 41,
     "metadata": {},
     "output_type": "execute_result"
    }
   ],
   "source": [
    "df['year_band'] = df['year']\n",
    "df['year_band'].replace(dict.fromkeys([2021.0, 2020.0], '>2020'), inplace=True)\n",
    "df['year_band'].replace(dict.fromkeys([2015.0, 2016.0, 2017.0, 2018.0, 2019.0], '2015-2019'), inplace=True)\n",
    "df['year_band'].replace(dict.fromkeys([2011.0, 2010.0, 2012.0, 2013.0, 2014.0], '2010-2014'), inplace=True)\n",
    "df['year_band'].replace(dict.fromkeys([2004., 2007., 2006., 2008., 2005., 2009., 2003., 2000., 2002., 1972., 1970., 1969., 1968., 1965., 1966.,\n",
    "1967., 1964., 1962., 2001., 1998., 1999., 1996., 1974., 1997.], '<2010'), inplace=True)\n",
    "df['year_band'].value_counts()"
   ]
  },
  {
   "cell_type": "code",
   "execution_count": 42,
   "metadata": {},
   "outputs": [
    {
     "data": {
      "text/plain": [
       "license_plate\n",
       "SY17KFO    89000\n",
       "FT59BXE    44989\n",
       "LL15XOT    48678\n",
       "SV54MDN    88465\n",
       "LM64BUH    39560\n",
       "           ...  \n",
       "YF04HFH    84750\n",
       "NK15VUW    43000\n",
       "BX14UER    58020\n",
       "LT17MVA    31190\n",
       "DL66HTT    49250\n",
       "Name: mileage, Length: 16356, dtype: int64"
      ]
     },
     "execution_count": 42,
     "metadata": {},
     "output_type": "execute_result"
    }
   ],
   "source": [
    "df['mileage'].astype(int)"
   ]
  },
  {
   "cell_type": "code",
   "execution_count": 43,
   "metadata": {},
   "outputs": [],
   "source": [
    "# ss = StandardScaler()\n",
    "# data = np.array(df['mileage'])\n",
    "# data = ss.fit_transform(data.reshape(-1, 1))\n",
    "# print(data)"
   ]
  },
  {
   "cell_type": "code",
   "execution_count": 44,
   "metadata": {},
   "outputs": [],
   "source": [
    "# mm = MinMaxScaler(feature_range=(0,1))\n",
    "# sample = np.array(df['mileage'])\n",
    "# sample = mm.fit_transform(sample.reshape(-1, 1))\n",
    "# print(sample)"
   ]
  },
  {
   "cell_type": "code",
   "execution_count": 45,
   "metadata": {},
   "outputs": [],
   "source": [
    "# mask = (df['mileage'] - df['mileage'].mean())/df['mileage'].std()\n",
    "# print(mask)"
   ]
  },
  {
   "cell_type": "code",
   "execution_count": 46,
   "metadata": {},
   "outputs": [],
   "source": [
    "# len(df['colour'].unique())"
   ]
  },
  {
   "cell_type": "code",
   "execution_count": 47,
   "metadata": {},
   "outputs": [],
   "source": [
    "# df['colour'] = df['colour'].apply(lambda x: x.upper())\n",
    "# len(df['colour'].unique())"
   ]
  },
  {
   "cell_type": "code",
   "execution_count": 48,
   "metadata": {},
   "outputs": [],
   "source": [
    "# df['colour'].value_counts(normalize=True)"
   ]
  },
  {
   "cell_type": "code",
   "execution_count": 49,
   "metadata": {},
   "outputs": [],
   "source": [
    "# df['colour_band'] = df['colour']\n",
    "# # df['colour_band'] = df['colour_band'].str.replace(' ', '')\n",
    "# # df['colour_band'] = df['colour_band'].str.replace('-', '')\n",
    "# df['colour_band'].value_counts().cumsum().head(20)\n"
   ]
  },
  {
   "cell_type": "code",
   "execution_count": 50,
   "metadata": {},
   "outputs": [],
   "source": [
    "# index_grey = df[df['colour_band'].str.contains('GREY')].index\n",
    "# df.loc[index_grey, 'colour_band'] = 'GREY'\n",
    "# index_silver = df[df['colour_band'].str.contains('SLIVER', case=False)].index\n",
    "# df.loc[index_silver, 'colour_band'] = 'SLIVER'\n",
    "# index_black = df[df['colour_band'].str.contains('BLACK', case=False)].index\n",
    "# df.loc[index_black, 'colour_band'] = 'BLACK'\n",
    "# index_white = df[df['colour_band'].str.contains('WHITE', case=False)].index\n",
    "# df.loc[index_black, 'colour_band'] = 'WHITE'\n",
    "# df['colour_band'].value_counts(20)\n"
   ]
  },
  {
   "cell_type": "code",
   "execution_count": 51,
   "metadata": {},
   "outputs": [],
   "source": [
    "# df['colour_band'].value_counts()"
   ]
  },
  {
   "cell_type": "code",
   "execution_count": 52,
   "metadata": {},
   "outputs": [],
   "source": [
    "# df.loc[index_grey] == 'GREY'\n",
    "# df['colour_band'].value_counts()"
   ]
  },
  {
   "cell_type": "code",
   "execution_count": 53,
   "metadata": {},
   "outputs": [
    {
     "data": {
      "text/html": [
       "<div>\n",
       "<style scoped>\n",
       "    .dataframe tbody tr th:only-of-type {\n",
       "        vertical-align: middle;\n",
       "    }\n",
       "\n",
       "    .dataframe tbody tr th {\n",
       "        vertical-align: top;\n",
       "    }\n",
       "\n",
       "    .dataframe thead th {\n",
       "        text-align: right;\n",
       "    }\n",
       "</style>\n",
       "<table border=\"1\" class=\"dataframe\">\n",
       "  <thead>\n",
       "    <tr style=\"text-align: right;\">\n",
       "      <th></th>\n",
       "      <th>price</th>\n",
       "      <th>make</th>\n",
       "      <th>mileage</th>\n",
       "      <th>year</th>\n",
       "      <th>fuel_type</th>\n",
       "      <th>transmission</th>\n",
       "      <th>body_type</th>\n",
       "      <th>engine_size</th>\n",
       "      <th>car_tier</th>\n",
       "      <th>engine_tier</th>\n",
       "      <th>year_band</th>\n",
       "    </tr>\n",
       "    <tr>\n",
       "      <th>license_plate</th>\n",
       "      <th></th>\n",
       "      <th></th>\n",
       "      <th></th>\n",
       "      <th></th>\n",
       "      <th></th>\n",
       "      <th></th>\n",
       "      <th></th>\n",
       "      <th></th>\n",
       "      <th></th>\n",
       "      <th></th>\n",
       "      <th></th>\n",
       "    </tr>\n",
       "  </thead>\n",
       "  <tbody>\n",
       "    <tr>\n",
       "      <th>SY17KFO</th>\n",
       "      <td>5295.0</td>\n",
       "      <td>PEUGEOT</td>\n",
       "      <td>89000.0</td>\n",
       "      <td>2017.0</td>\n",
       "      <td>Diesel</td>\n",
       "      <td>Manual</td>\n",
       "      <td>Estate</td>\n",
       "      <td>1.6</td>\n",
       "      <td>T1</td>\n",
       "      <td>1-2L</td>\n",
       "      <td>2015-2019</td>\n",
       "    </tr>\n",
       "    <tr>\n",
       "      <th>FT59BXE</th>\n",
       "      <td>4299.0</td>\n",
       "      <td>VOLKSWAGEN</td>\n",
       "      <td>44989.0</td>\n",
       "      <td>2010.0</td>\n",
       "      <td>Petrol</td>\n",
       "      <td>Manual</td>\n",
       "      <td>Hatchback</td>\n",
       "      <td>1.2</td>\n",
       "      <td>T2</td>\n",
       "      <td>1-2L</td>\n",
       "      <td>2010-2014</td>\n",
       "    </tr>\n",
       "    <tr>\n",
       "      <th>LL15XOT</th>\n",
       "      <td>8245.0</td>\n",
       "      <td>NISSAN</td>\n",
       "      <td>48678.0</td>\n",
       "      <td>2015.0</td>\n",
       "      <td>Petrol</td>\n",
       "      <td>Automatic</td>\n",
       "      <td>Hatchback</td>\n",
       "      <td>1.6</td>\n",
       "      <td>T3</td>\n",
       "      <td>1-2L</td>\n",
       "      <td>2015-2019</td>\n",
       "    </tr>\n",
       "    <tr>\n",
       "      <th>SV54MDN</th>\n",
       "      <td>2095.0</td>\n",
       "      <td>MERCEDES</td>\n",
       "      <td>88465.0</td>\n",
       "      <td>2004.0</td>\n",
       "      <td>Petrol</td>\n",
       "      <td>Automatic</td>\n",
       "      <td>Saloon</td>\n",
       "      <td>1.8</td>\n",
       "      <td>T1</td>\n",
       "      <td>1-2L</td>\n",
       "      <td>&lt;2010</td>\n",
       "    </tr>\n",
       "    <tr>\n",
       "      <th>LM64BUH</th>\n",
       "      <td>8695.0</td>\n",
       "      <td>NISSAN</td>\n",
       "      <td>39560.0</td>\n",
       "      <td>2014.0</td>\n",
       "      <td>Petrol</td>\n",
       "      <td>Automatic</td>\n",
       "      <td>Hatchback</td>\n",
       "      <td>1.6</td>\n",
       "      <td>T3</td>\n",
       "      <td>1-2L</td>\n",
       "      <td>2010-2014</td>\n",
       "    </tr>\n",
       "    <tr>\n",
       "      <th>YG12LLW</th>\n",
       "      <td>4895.0</td>\n",
       "      <td>NISSAN</td>\n",
       "      <td>92200.0</td>\n",
       "      <td>2012.0</td>\n",
       "      <td>Diesel</td>\n",
       "      <td>Manual</td>\n",
       "      <td>Hatchback</td>\n",
       "      <td>1.6</td>\n",
       "      <td>T3</td>\n",
       "      <td>1-2L</td>\n",
       "      <td>2010-2014</td>\n",
       "    </tr>\n",
       "    <tr>\n",
       "      <th>PF65ONZ</th>\n",
       "      <td>13745.0</td>\n",
       "      <td>SKODA</td>\n",
       "      <td>50046.0</td>\n",
       "      <td>2015.0</td>\n",
       "      <td>Diesel</td>\n",
       "      <td>Semi-auto</td>\n",
       "      <td>Estate</td>\n",
       "      <td>2.0</td>\n",
       "      <td>T3</td>\n",
       "      <td>1-2L</td>\n",
       "      <td>2015-2019</td>\n",
       "    </tr>\n",
       "    <tr>\n",
       "      <th>SK12OTB</th>\n",
       "      <td>4600.0</td>\n",
       "      <td>NISSAN</td>\n",
       "      <td>88000.0</td>\n",
       "      <td>2012.0</td>\n",
       "      <td>Petrol</td>\n",
       "      <td>Manual</td>\n",
       "      <td>Hatchback</td>\n",
       "      <td>1.6</td>\n",
       "      <td>T3</td>\n",
       "      <td>1-2L</td>\n",
       "      <td>2010-2014</td>\n",
       "    </tr>\n",
       "    <tr>\n",
       "      <th>SG61CUJ</th>\n",
       "      <td>2999.0</td>\n",
       "      <td>RENAULT</td>\n",
       "      <td>57000.0</td>\n",
       "      <td>2011.0</td>\n",
       "      <td>Petrol</td>\n",
       "      <td>Manual</td>\n",
       "      <td>Hatchback</td>\n",
       "      <td>1.1</td>\n",
       "      <td>T2</td>\n",
       "      <td>1-2L</td>\n",
       "      <td>2010-2014</td>\n",
       "    </tr>\n",
       "    <tr>\n",
       "      <th>NV62TXT</th>\n",
       "      <td>5000.0</td>\n",
       "      <td>VOLVO</td>\n",
       "      <td>91500.0</td>\n",
       "      <td>2012.0</td>\n",
       "      <td>Diesel</td>\n",
       "      <td>Manual</td>\n",
       "      <td>Hatchback</td>\n",
       "      <td>1.6</td>\n",
       "      <td>T2</td>\n",
       "      <td>1-2L</td>\n",
       "      <td>2010-2014</td>\n",
       "    </tr>\n",
       "  </tbody>\n",
       "</table>\n",
       "</div>"
      ],
      "text/plain": [
       "                 price        make  mileage    year fuel_type transmission  \\\n",
       "license_plate                                                                \n",
       "SY17KFO         5295.0     PEUGEOT  89000.0  2017.0    Diesel       Manual   \n",
       "FT59BXE         4299.0  VOLKSWAGEN  44989.0  2010.0    Petrol       Manual   \n",
       "LL15XOT         8245.0      NISSAN  48678.0  2015.0    Petrol    Automatic   \n",
       "SV54MDN         2095.0    MERCEDES  88465.0  2004.0    Petrol    Automatic   \n",
       "LM64BUH         8695.0      NISSAN  39560.0  2014.0    Petrol    Automatic   \n",
       "YG12LLW         4895.0      NISSAN  92200.0  2012.0    Diesel       Manual   \n",
       "PF65ONZ        13745.0       SKODA  50046.0  2015.0    Diesel    Semi-auto   \n",
       "SK12OTB         4600.0      NISSAN  88000.0  2012.0    Petrol       Manual   \n",
       "SG61CUJ         2999.0     RENAULT  57000.0  2011.0    Petrol       Manual   \n",
       "NV62TXT         5000.0       VOLVO  91500.0  2012.0    Diesel       Manual   \n",
       "\n",
       "               body_type  engine_size car_tier engine_tier  year_band  \n",
       "license_plate                                                          \n",
       "SY17KFO           Estate          1.6       T1        1-2L  2015-2019  \n",
       "FT59BXE        Hatchback          1.2       T2        1-2L  2010-2014  \n",
       "LL15XOT        Hatchback          1.6       T3        1-2L  2015-2019  \n",
       "SV54MDN           Saloon          1.8       T1        1-2L      <2010  \n",
       "LM64BUH        Hatchback          1.6       T3        1-2L  2010-2014  \n",
       "YG12LLW        Hatchback          1.6       T3        1-2L  2010-2014  \n",
       "PF65ONZ           Estate          2.0       T3        1-2L  2015-2019  \n",
       "SK12OTB        Hatchback          1.6       T3        1-2L  2010-2014  \n",
       "SG61CUJ        Hatchback          1.1       T2        1-2L  2010-2014  \n",
       "NV62TXT        Hatchback          1.6       T2        1-2L  2010-2014  "
      ]
     },
     "execution_count": 53,
     "metadata": {},
     "output_type": "execute_result"
    }
   ],
   "source": [
    "df.head(10)"
   ]
  },
  {
   "cell_type": "code",
   "execution_count": 54,
   "metadata": {},
   "outputs": [],
   "source": [
    "df.to_csv('Pre-processed Data.csv', index=True)"
   ]
  },
  {
   "cell_type": "code",
   "execution_count": 62,
   "metadata": {},
   "outputs": [],
   "source": [
    "df = pd.read_csv('Pre-processed Data.csv', index_col=0)"
   ]
  },
  {
   "cell_type": "code",
   "execution_count": 63,
   "metadata": {},
   "outputs": [],
   "source": [
    "dummy_df = df[['fuel_type', 'transmission', 'body_type', 'car_tier', 'engine_tier', 'year_band']]"
   ]
  },
  {
   "cell_type": "code",
   "execution_count": 64,
   "metadata": {},
   "outputs": [],
   "source": [
    "Feature = pd.concat([df['mileage'], pd.get_dummies(dummy_df)], axis=1)"
   ]
  },
  {
   "cell_type": "code",
   "execution_count": 65,
   "metadata": {},
   "outputs": [
    {
     "data": {
      "text/html": [
       "<div>\n",
       "<style scoped>\n",
       "    .dataframe tbody tr th:only-of-type {\n",
       "        vertical-align: middle;\n",
       "    }\n",
       "\n",
       "    .dataframe tbody tr th {\n",
       "        vertical-align: top;\n",
       "    }\n",
       "\n",
       "    .dataframe thead th {\n",
       "        text-align: right;\n",
       "    }\n",
       "</style>\n",
       "<table border=\"1\" class=\"dataframe\">\n",
       "  <thead>\n",
       "    <tr style=\"text-align: right;\">\n",
       "      <th></th>\n",
       "      <th>mileage</th>\n",
       "      <th>fuel_type_Diesel</th>\n",
       "      <th>fuel_type_Electric</th>\n",
       "      <th>fuel_type_Hybrid</th>\n",
       "      <th>fuel_type_Petrol</th>\n",
       "      <th>transmission_Automatic</th>\n",
       "      <th>transmission_Manual</th>\n",
       "      <th>transmission_Semi-auto</th>\n",
       "      <th>body_type_Convertible</th>\n",
       "      <th>body_type_Coupe</th>\n",
       "      <th>...</th>\n",
       "      <th>car_tier_T2</th>\n",
       "      <th>car_tier_T3</th>\n",
       "      <th>engine_tier_0-1L</th>\n",
       "      <th>engine_tier_1-2L</th>\n",
       "      <th>engine_tier_2-3L</th>\n",
       "      <th>engine_tier_&gt;3L</th>\n",
       "      <th>year_band_2010-2014</th>\n",
       "      <th>year_band_2015-2019</th>\n",
       "      <th>year_band_&lt;2010</th>\n",
       "      <th>year_band_&gt;2020</th>\n",
       "    </tr>\n",
       "    <tr>\n",
       "      <th>license_plate</th>\n",
       "      <th></th>\n",
       "      <th></th>\n",
       "      <th></th>\n",
       "      <th></th>\n",
       "      <th></th>\n",
       "      <th></th>\n",
       "      <th></th>\n",
       "      <th></th>\n",
       "      <th></th>\n",
       "      <th></th>\n",
       "      <th></th>\n",
       "      <th></th>\n",
       "      <th></th>\n",
       "      <th></th>\n",
       "      <th></th>\n",
       "      <th></th>\n",
       "      <th></th>\n",
       "      <th></th>\n",
       "      <th></th>\n",
       "      <th></th>\n",
       "      <th></th>\n",
       "    </tr>\n",
       "  </thead>\n",
       "  <tbody>\n",
       "    <tr>\n",
       "      <th>SY17KFO</th>\n",
       "      <td>89000.0</td>\n",
       "      <td>1</td>\n",
       "      <td>0</td>\n",
       "      <td>0</td>\n",
       "      <td>0</td>\n",
       "      <td>0</td>\n",
       "      <td>1</td>\n",
       "      <td>0</td>\n",
       "      <td>0</td>\n",
       "      <td>0</td>\n",
       "      <td>...</td>\n",
       "      <td>0</td>\n",
       "      <td>0</td>\n",
       "      <td>0</td>\n",
       "      <td>1</td>\n",
       "      <td>0</td>\n",
       "      <td>0</td>\n",
       "      <td>0</td>\n",
       "      <td>1</td>\n",
       "      <td>0</td>\n",
       "      <td>0</td>\n",
       "    </tr>\n",
       "    <tr>\n",
       "      <th>FT59BXE</th>\n",
       "      <td>44989.0</td>\n",
       "      <td>0</td>\n",
       "      <td>0</td>\n",
       "      <td>0</td>\n",
       "      <td>1</td>\n",
       "      <td>0</td>\n",
       "      <td>1</td>\n",
       "      <td>0</td>\n",
       "      <td>0</td>\n",
       "      <td>0</td>\n",
       "      <td>...</td>\n",
       "      <td>1</td>\n",
       "      <td>0</td>\n",
       "      <td>0</td>\n",
       "      <td>1</td>\n",
       "      <td>0</td>\n",
       "      <td>0</td>\n",
       "      <td>1</td>\n",
       "      <td>0</td>\n",
       "      <td>0</td>\n",
       "      <td>0</td>\n",
       "    </tr>\n",
       "    <tr>\n",
       "      <th>LL15XOT</th>\n",
       "      <td>48678.0</td>\n",
       "      <td>0</td>\n",
       "      <td>0</td>\n",
       "      <td>0</td>\n",
       "      <td>1</td>\n",
       "      <td>1</td>\n",
       "      <td>0</td>\n",
       "      <td>0</td>\n",
       "      <td>0</td>\n",
       "      <td>0</td>\n",
       "      <td>...</td>\n",
       "      <td>0</td>\n",
       "      <td>1</td>\n",
       "      <td>0</td>\n",
       "      <td>1</td>\n",
       "      <td>0</td>\n",
       "      <td>0</td>\n",
       "      <td>0</td>\n",
       "      <td>1</td>\n",
       "      <td>0</td>\n",
       "      <td>0</td>\n",
       "    </tr>\n",
       "    <tr>\n",
       "      <th>SV54MDN</th>\n",
       "      <td>88465.0</td>\n",
       "      <td>0</td>\n",
       "      <td>0</td>\n",
       "      <td>0</td>\n",
       "      <td>1</td>\n",
       "      <td>1</td>\n",
       "      <td>0</td>\n",
       "      <td>0</td>\n",
       "      <td>0</td>\n",
       "      <td>0</td>\n",
       "      <td>...</td>\n",
       "      <td>0</td>\n",
       "      <td>0</td>\n",
       "      <td>0</td>\n",
       "      <td>1</td>\n",
       "      <td>0</td>\n",
       "      <td>0</td>\n",
       "      <td>0</td>\n",
       "      <td>0</td>\n",
       "      <td>1</td>\n",
       "      <td>0</td>\n",
       "    </tr>\n",
       "    <tr>\n",
       "      <th>LM64BUH</th>\n",
       "      <td>39560.0</td>\n",
       "      <td>0</td>\n",
       "      <td>0</td>\n",
       "      <td>0</td>\n",
       "      <td>1</td>\n",
       "      <td>1</td>\n",
       "      <td>0</td>\n",
       "      <td>0</td>\n",
       "      <td>0</td>\n",
       "      <td>0</td>\n",
       "      <td>...</td>\n",
       "      <td>0</td>\n",
       "      <td>1</td>\n",
       "      <td>0</td>\n",
       "      <td>1</td>\n",
       "      <td>0</td>\n",
       "      <td>0</td>\n",
       "      <td>1</td>\n",
       "      <td>0</td>\n",
       "      <td>0</td>\n",
       "      <td>0</td>\n",
       "    </tr>\n",
       "    <tr>\n",
       "      <th>...</th>\n",
       "      <td>...</td>\n",
       "      <td>...</td>\n",
       "      <td>...</td>\n",
       "      <td>...</td>\n",
       "      <td>...</td>\n",
       "      <td>...</td>\n",
       "      <td>...</td>\n",
       "      <td>...</td>\n",
       "      <td>...</td>\n",
       "      <td>...</td>\n",
       "      <td>...</td>\n",
       "      <td>...</td>\n",
       "      <td>...</td>\n",
       "      <td>...</td>\n",
       "      <td>...</td>\n",
       "      <td>...</td>\n",
       "      <td>...</td>\n",
       "      <td>...</td>\n",
       "      <td>...</td>\n",
       "      <td>...</td>\n",
       "      <td>...</td>\n",
       "    </tr>\n",
       "    <tr>\n",
       "      <th>YF04HFH</th>\n",
       "      <td>84750.0</td>\n",
       "      <td>0</td>\n",
       "      <td>0</td>\n",
       "      <td>0</td>\n",
       "      <td>1</td>\n",
       "      <td>0</td>\n",
       "      <td>1</td>\n",
       "      <td>0</td>\n",
       "      <td>0</td>\n",
       "      <td>0</td>\n",
       "      <td>...</td>\n",
       "      <td>0</td>\n",
       "      <td>0</td>\n",
       "      <td>0</td>\n",
       "      <td>0</td>\n",
       "      <td>0</td>\n",
       "      <td>1</td>\n",
       "      <td>0</td>\n",
       "      <td>0</td>\n",
       "      <td>1</td>\n",
       "      <td>0</td>\n",
       "    </tr>\n",
       "    <tr>\n",
       "      <th>NK15VUW</th>\n",
       "      <td>43000.0</td>\n",
       "      <td>1</td>\n",
       "      <td>0</td>\n",
       "      <td>0</td>\n",
       "      <td>0</td>\n",
       "      <td>1</td>\n",
       "      <td>0</td>\n",
       "      <td>0</td>\n",
       "      <td>0</td>\n",
       "      <td>0</td>\n",
       "      <td>...</td>\n",
       "      <td>0</td>\n",
       "      <td>0</td>\n",
       "      <td>0</td>\n",
       "      <td>1</td>\n",
       "      <td>0</td>\n",
       "      <td>0</td>\n",
       "      <td>0</td>\n",
       "      <td>1</td>\n",
       "      <td>0</td>\n",
       "      <td>0</td>\n",
       "    </tr>\n",
       "    <tr>\n",
       "      <th>BX14UER</th>\n",
       "      <td>58020.0</td>\n",
       "      <td>0</td>\n",
       "      <td>0</td>\n",
       "      <td>0</td>\n",
       "      <td>1</td>\n",
       "      <td>0</td>\n",
       "      <td>1</td>\n",
       "      <td>0</td>\n",
       "      <td>0</td>\n",
       "      <td>0</td>\n",
       "      <td>...</td>\n",
       "      <td>0</td>\n",
       "      <td>0</td>\n",
       "      <td>0</td>\n",
       "      <td>1</td>\n",
       "      <td>0</td>\n",
       "      <td>0</td>\n",
       "      <td>1</td>\n",
       "      <td>0</td>\n",
       "      <td>0</td>\n",
       "      <td>0</td>\n",
       "    </tr>\n",
       "    <tr>\n",
       "      <th>LT17MVA</th>\n",
       "      <td>31190.0</td>\n",
       "      <td>0</td>\n",
       "      <td>0</td>\n",
       "      <td>0</td>\n",
       "      <td>1</td>\n",
       "      <td>1</td>\n",
       "      <td>0</td>\n",
       "      <td>0</td>\n",
       "      <td>0</td>\n",
       "      <td>0</td>\n",
       "      <td>...</td>\n",
       "      <td>1</td>\n",
       "      <td>0</td>\n",
       "      <td>0</td>\n",
       "      <td>1</td>\n",
       "      <td>0</td>\n",
       "      <td>0</td>\n",
       "      <td>0</td>\n",
       "      <td>1</td>\n",
       "      <td>0</td>\n",
       "      <td>0</td>\n",
       "    </tr>\n",
       "    <tr>\n",
       "      <th>DL66HTT</th>\n",
       "      <td>49250.0</td>\n",
       "      <td>1</td>\n",
       "      <td>0</td>\n",
       "      <td>0</td>\n",
       "      <td>0</td>\n",
       "      <td>0</td>\n",
       "      <td>1</td>\n",
       "      <td>0</td>\n",
       "      <td>0</td>\n",
       "      <td>0</td>\n",
       "      <td>...</td>\n",
       "      <td>0</td>\n",
       "      <td>0</td>\n",
       "      <td>0</td>\n",
       "      <td>1</td>\n",
       "      <td>0</td>\n",
       "      <td>0</td>\n",
       "      <td>0</td>\n",
       "      <td>1</td>\n",
       "      <td>0</td>\n",
       "      <td>0</td>\n",
       "    </tr>\n",
       "  </tbody>\n",
       "</table>\n",
       "<p>16356 rows × 26 columns</p>\n",
       "</div>"
      ],
      "text/plain": [
       "               mileage  fuel_type_Diesel  fuel_type_Electric  \\\n",
       "license_plate                                                  \n",
       "SY17KFO        89000.0                 1                   0   \n",
       "FT59BXE        44989.0                 0                   0   \n",
       "LL15XOT        48678.0                 0                   0   \n",
       "SV54MDN        88465.0                 0                   0   \n",
       "LM64BUH        39560.0                 0                   0   \n",
       "...                ...               ...                 ...   \n",
       "YF04HFH        84750.0                 0                   0   \n",
       "NK15VUW        43000.0                 1                   0   \n",
       "BX14UER        58020.0                 0                   0   \n",
       "LT17MVA        31190.0                 0                   0   \n",
       "DL66HTT        49250.0                 1                   0   \n",
       "\n",
       "               fuel_type_Hybrid  fuel_type_Petrol  transmission_Automatic  \\\n",
       "license_plate                                                               \n",
       "SY17KFO                       0                 0                       0   \n",
       "FT59BXE                       0                 1                       0   \n",
       "LL15XOT                       0                 1                       1   \n",
       "SV54MDN                       0                 1                       1   \n",
       "LM64BUH                       0                 1                       1   \n",
       "...                         ...               ...                     ...   \n",
       "YF04HFH                       0                 1                       0   \n",
       "NK15VUW                       0                 0                       1   \n",
       "BX14UER                       0                 1                       0   \n",
       "LT17MVA                       0                 1                       1   \n",
       "DL66HTT                       0                 0                       0   \n",
       "\n",
       "               transmission_Manual  transmission_Semi-auto  \\\n",
       "license_plate                                                \n",
       "SY17KFO                          1                       0   \n",
       "FT59BXE                          1                       0   \n",
       "LL15XOT                          0                       0   \n",
       "SV54MDN                          0                       0   \n",
       "LM64BUH                          0                       0   \n",
       "...                            ...                     ...   \n",
       "YF04HFH                          1                       0   \n",
       "NK15VUW                          0                       0   \n",
       "BX14UER                          1                       0   \n",
       "LT17MVA                          0                       0   \n",
       "DL66HTT                          1                       0   \n",
       "\n",
       "               body_type_Convertible  body_type_Coupe  ...  car_tier_T2  \\\n",
       "license_plate                                          ...                \n",
       "SY17KFO                            0                0  ...            0   \n",
       "FT59BXE                            0                0  ...            1   \n",
       "LL15XOT                            0                0  ...            0   \n",
       "SV54MDN                            0                0  ...            0   \n",
       "LM64BUH                            0                0  ...            0   \n",
       "...                              ...              ...  ...          ...   \n",
       "YF04HFH                            0                0  ...            0   \n",
       "NK15VUW                            0                0  ...            0   \n",
       "BX14UER                            0                0  ...            0   \n",
       "LT17MVA                            0                0  ...            1   \n",
       "DL66HTT                            0                0  ...            0   \n",
       "\n",
       "               car_tier_T3  engine_tier_0-1L  engine_tier_1-2L  \\\n",
       "license_plate                                                    \n",
       "SY17KFO                  0                 0                 1   \n",
       "FT59BXE                  0                 0                 1   \n",
       "LL15XOT                  1                 0                 1   \n",
       "SV54MDN                  0                 0                 1   \n",
       "LM64BUH                  1                 0                 1   \n",
       "...                    ...               ...               ...   \n",
       "YF04HFH                  0                 0                 0   \n",
       "NK15VUW                  0                 0                 1   \n",
       "BX14UER                  0                 0                 1   \n",
       "LT17MVA                  0                 0                 1   \n",
       "DL66HTT                  0                 0                 1   \n",
       "\n",
       "               engine_tier_2-3L  engine_tier_>3L  year_band_2010-2014  \\\n",
       "license_plate                                                           \n",
       "SY17KFO                       0                0                    0   \n",
       "FT59BXE                       0                0                    1   \n",
       "LL15XOT                       0                0                    0   \n",
       "SV54MDN                       0                0                    0   \n",
       "LM64BUH                       0                0                    1   \n",
       "...                         ...              ...                  ...   \n",
       "YF04HFH                       0                1                    0   \n",
       "NK15VUW                       0                0                    0   \n",
       "BX14UER                       0                0                    1   \n",
       "LT17MVA                       0                0                    0   \n",
       "DL66HTT                       0                0                    0   \n",
       "\n",
       "               year_band_2015-2019  year_band_<2010  year_band_>2020  \n",
       "license_plate                                                         \n",
       "SY17KFO                          1                0                0  \n",
       "FT59BXE                          0                0                0  \n",
       "LL15XOT                          1                0                0  \n",
       "SV54MDN                          0                1                0  \n",
       "LM64BUH                          0                0                0  \n",
       "...                            ...              ...              ...  \n",
       "YF04HFH                          0                1                0  \n",
       "NK15VUW                          1                0                0  \n",
       "BX14UER                          0                0                0  \n",
       "LT17MVA                          1                0                0  \n",
       "DL66HTT                          1                0                0  \n",
       "\n",
       "[16356 rows x 26 columns]"
      ]
     },
     "execution_count": 65,
     "metadata": {},
     "output_type": "execute_result"
    }
   ],
   "source": [
    "Feature"
   ]
  },
  {
   "cell_type": "code",
   "execution_count": 66,
   "metadata": {},
   "outputs": [
    {
     "data": {
      "text/html": [
       "<div>\n",
       "<style scoped>\n",
       "    .dataframe tbody tr th:only-of-type {\n",
       "        vertical-align: middle;\n",
       "    }\n",
       "\n",
       "    .dataframe tbody tr th {\n",
       "        vertical-align: top;\n",
       "    }\n",
       "\n",
       "    .dataframe thead th {\n",
       "        text-align: right;\n",
       "    }\n",
       "</style>\n",
       "<table border=\"1\" class=\"dataframe\">\n",
       "  <thead>\n",
       "    <tr style=\"text-align: right;\">\n",
       "      <th></th>\n",
       "      <th>price</th>\n",
       "      <th>mileage</th>\n",
       "      <th>fuel_type_Diesel</th>\n",
       "      <th>fuel_type_Electric</th>\n",
       "      <th>fuel_type_Hybrid</th>\n",
       "      <th>fuel_type_Petrol</th>\n",
       "      <th>transmission_Automatic</th>\n",
       "      <th>transmission_Manual</th>\n",
       "      <th>transmission_Semi-auto</th>\n",
       "      <th>body_type_Convertible</th>\n",
       "      <th>...</th>\n",
       "      <th>car_tier_T2</th>\n",
       "      <th>car_tier_T3</th>\n",
       "      <th>engine_tier_0-1L</th>\n",
       "      <th>engine_tier_1-2L</th>\n",
       "      <th>engine_tier_2-3L</th>\n",
       "      <th>engine_tier_&gt;3L</th>\n",
       "      <th>year_band_2010-2014</th>\n",
       "      <th>year_band_2015-2019</th>\n",
       "      <th>year_band_&lt;2010</th>\n",
       "      <th>year_band_&gt;2020</th>\n",
       "    </tr>\n",
       "    <tr>\n",
       "      <th>license_plate</th>\n",
       "      <th></th>\n",
       "      <th></th>\n",
       "      <th></th>\n",
       "      <th></th>\n",
       "      <th></th>\n",
       "      <th></th>\n",
       "      <th></th>\n",
       "      <th></th>\n",
       "      <th></th>\n",
       "      <th></th>\n",
       "      <th></th>\n",
       "      <th></th>\n",
       "      <th></th>\n",
       "      <th></th>\n",
       "      <th></th>\n",
       "      <th></th>\n",
       "      <th></th>\n",
       "      <th></th>\n",
       "      <th></th>\n",
       "      <th></th>\n",
       "      <th></th>\n",
       "    </tr>\n",
       "  </thead>\n",
       "  <tbody>\n",
       "    <tr>\n",
       "      <th>SY17KFO</th>\n",
       "      <td>5295.0</td>\n",
       "      <td>89000.0</td>\n",
       "      <td>1</td>\n",
       "      <td>0</td>\n",
       "      <td>0</td>\n",
       "      <td>0</td>\n",
       "      <td>0</td>\n",
       "      <td>1</td>\n",
       "      <td>0</td>\n",
       "      <td>0</td>\n",
       "      <td>...</td>\n",
       "      <td>0</td>\n",
       "      <td>0</td>\n",
       "      <td>0</td>\n",
       "      <td>1</td>\n",
       "      <td>0</td>\n",
       "      <td>0</td>\n",
       "      <td>0</td>\n",
       "      <td>1</td>\n",
       "      <td>0</td>\n",
       "      <td>0</td>\n",
       "    </tr>\n",
       "    <tr>\n",
       "      <th>FT59BXE</th>\n",
       "      <td>4299.0</td>\n",
       "      <td>44989.0</td>\n",
       "      <td>0</td>\n",
       "      <td>0</td>\n",
       "      <td>0</td>\n",
       "      <td>1</td>\n",
       "      <td>0</td>\n",
       "      <td>1</td>\n",
       "      <td>0</td>\n",
       "      <td>0</td>\n",
       "      <td>...</td>\n",
       "      <td>1</td>\n",
       "      <td>0</td>\n",
       "      <td>0</td>\n",
       "      <td>1</td>\n",
       "      <td>0</td>\n",
       "      <td>0</td>\n",
       "      <td>1</td>\n",
       "      <td>0</td>\n",
       "      <td>0</td>\n",
       "      <td>0</td>\n",
       "    </tr>\n",
       "    <tr>\n",
       "      <th>LL15XOT</th>\n",
       "      <td>8245.0</td>\n",
       "      <td>48678.0</td>\n",
       "      <td>0</td>\n",
       "      <td>0</td>\n",
       "      <td>0</td>\n",
       "      <td>1</td>\n",
       "      <td>1</td>\n",
       "      <td>0</td>\n",
       "      <td>0</td>\n",
       "      <td>0</td>\n",
       "      <td>...</td>\n",
       "      <td>0</td>\n",
       "      <td>1</td>\n",
       "      <td>0</td>\n",
       "      <td>1</td>\n",
       "      <td>0</td>\n",
       "      <td>0</td>\n",
       "      <td>0</td>\n",
       "      <td>1</td>\n",
       "      <td>0</td>\n",
       "      <td>0</td>\n",
       "    </tr>\n",
       "    <tr>\n",
       "      <th>SV54MDN</th>\n",
       "      <td>2095.0</td>\n",
       "      <td>88465.0</td>\n",
       "      <td>0</td>\n",
       "      <td>0</td>\n",
       "      <td>0</td>\n",
       "      <td>1</td>\n",
       "      <td>1</td>\n",
       "      <td>0</td>\n",
       "      <td>0</td>\n",
       "      <td>0</td>\n",
       "      <td>...</td>\n",
       "      <td>0</td>\n",
       "      <td>0</td>\n",
       "      <td>0</td>\n",
       "      <td>1</td>\n",
       "      <td>0</td>\n",
       "      <td>0</td>\n",
       "      <td>0</td>\n",
       "      <td>0</td>\n",
       "      <td>1</td>\n",
       "      <td>0</td>\n",
       "    </tr>\n",
       "    <tr>\n",
       "      <th>LM64BUH</th>\n",
       "      <td>8695.0</td>\n",
       "      <td>39560.0</td>\n",
       "      <td>0</td>\n",
       "      <td>0</td>\n",
       "      <td>0</td>\n",
       "      <td>1</td>\n",
       "      <td>1</td>\n",
       "      <td>0</td>\n",
       "      <td>0</td>\n",
       "      <td>0</td>\n",
       "      <td>...</td>\n",
       "      <td>0</td>\n",
       "      <td>1</td>\n",
       "      <td>0</td>\n",
       "      <td>1</td>\n",
       "      <td>0</td>\n",
       "      <td>0</td>\n",
       "      <td>1</td>\n",
       "      <td>0</td>\n",
       "      <td>0</td>\n",
       "      <td>0</td>\n",
       "    </tr>\n",
       "    <tr>\n",
       "      <th>...</th>\n",
       "      <td>...</td>\n",
       "      <td>...</td>\n",
       "      <td>...</td>\n",
       "      <td>...</td>\n",
       "      <td>...</td>\n",
       "      <td>...</td>\n",
       "      <td>...</td>\n",
       "      <td>...</td>\n",
       "      <td>...</td>\n",
       "      <td>...</td>\n",
       "      <td>...</td>\n",
       "      <td>...</td>\n",
       "      <td>...</td>\n",
       "      <td>...</td>\n",
       "      <td>...</td>\n",
       "      <td>...</td>\n",
       "      <td>...</td>\n",
       "      <td>...</td>\n",
       "      <td>...</td>\n",
       "      <td>...</td>\n",
       "      <td>...</td>\n",
       "    </tr>\n",
       "    <tr>\n",
       "      <th>YF04HFH</th>\n",
       "      <td>4995.0</td>\n",
       "      <td>84750.0</td>\n",
       "      <td>0</td>\n",
       "      <td>0</td>\n",
       "      <td>0</td>\n",
       "      <td>1</td>\n",
       "      <td>0</td>\n",
       "      <td>1</td>\n",
       "      <td>0</td>\n",
       "      <td>0</td>\n",
       "      <td>...</td>\n",
       "      <td>0</td>\n",
       "      <td>0</td>\n",
       "      <td>0</td>\n",
       "      <td>0</td>\n",
       "      <td>0</td>\n",
       "      <td>1</td>\n",
       "      <td>0</td>\n",
       "      <td>0</td>\n",
       "      <td>1</td>\n",
       "      <td>0</td>\n",
       "    </tr>\n",
       "    <tr>\n",
       "      <th>NK15VUW</th>\n",
       "      <td>16490.0</td>\n",
       "      <td>43000.0</td>\n",
       "      <td>1</td>\n",
       "      <td>0</td>\n",
       "      <td>0</td>\n",
       "      <td>0</td>\n",
       "      <td>1</td>\n",
       "      <td>0</td>\n",
       "      <td>0</td>\n",
       "      <td>0</td>\n",
       "      <td>...</td>\n",
       "      <td>0</td>\n",
       "      <td>0</td>\n",
       "      <td>0</td>\n",
       "      <td>1</td>\n",
       "      <td>0</td>\n",
       "      <td>0</td>\n",
       "      <td>0</td>\n",
       "      <td>1</td>\n",
       "      <td>0</td>\n",
       "      <td>0</td>\n",
       "    </tr>\n",
       "    <tr>\n",
       "      <th>BX14UER</th>\n",
       "      <td>9379.0</td>\n",
       "      <td>58020.0</td>\n",
       "      <td>0</td>\n",
       "      <td>0</td>\n",
       "      <td>0</td>\n",
       "      <td>1</td>\n",
       "      <td>0</td>\n",
       "      <td>1</td>\n",
       "      <td>0</td>\n",
       "      <td>0</td>\n",
       "      <td>...</td>\n",
       "      <td>0</td>\n",
       "      <td>0</td>\n",
       "      <td>0</td>\n",
       "      <td>1</td>\n",
       "      <td>0</td>\n",
       "      <td>0</td>\n",
       "      <td>1</td>\n",
       "      <td>0</td>\n",
       "      <td>0</td>\n",
       "      <td>0</td>\n",
       "    </tr>\n",
       "    <tr>\n",
       "      <th>LT17MVA</th>\n",
       "      <td>13000.0</td>\n",
       "      <td>31190.0</td>\n",
       "      <td>0</td>\n",
       "      <td>0</td>\n",
       "      <td>0</td>\n",
       "      <td>1</td>\n",
       "      <td>1</td>\n",
       "      <td>0</td>\n",
       "      <td>0</td>\n",
       "      <td>0</td>\n",
       "      <td>...</td>\n",
       "      <td>1</td>\n",
       "      <td>0</td>\n",
       "      <td>0</td>\n",
       "      <td>1</td>\n",
       "      <td>0</td>\n",
       "      <td>0</td>\n",
       "      <td>0</td>\n",
       "      <td>1</td>\n",
       "      <td>0</td>\n",
       "      <td>0</td>\n",
       "    </tr>\n",
       "    <tr>\n",
       "      <th>DL66HTT</th>\n",
       "      <td>12500.0</td>\n",
       "      <td>49250.0</td>\n",
       "      <td>1</td>\n",
       "      <td>0</td>\n",
       "      <td>0</td>\n",
       "      <td>0</td>\n",
       "      <td>0</td>\n",
       "      <td>1</td>\n",
       "      <td>0</td>\n",
       "      <td>0</td>\n",
       "      <td>...</td>\n",
       "      <td>0</td>\n",
       "      <td>0</td>\n",
       "      <td>0</td>\n",
       "      <td>1</td>\n",
       "      <td>0</td>\n",
       "      <td>0</td>\n",
       "      <td>0</td>\n",
       "      <td>1</td>\n",
       "      <td>0</td>\n",
       "      <td>0</td>\n",
       "    </tr>\n",
       "  </tbody>\n",
       "</table>\n",
       "<p>16356 rows × 27 columns</p>\n",
       "</div>"
      ],
      "text/plain": [
       "                 price  mileage  fuel_type_Diesel  fuel_type_Electric  \\\n",
       "license_plate                                                           \n",
       "SY17KFO         5295.0  89000.0                 1                   0   \n",
       "FT59BXE         4299.0  44989.0                 0                   0   \n",
       "LL15XOT         8245.0  48678.0                 0                   0   \n",
       "SV54MDN         2095.0  88465.0                 0                   0   \n",
       "LM64BUH         8695.0  39560.0                 0                   0   \n",
       "...                ...      ...               ...                 ...   \n",
       "YF04HFH         4995.0  84750.0                 0                   0   \n",
       "NK15VUW        16490.0  43000.0                 1                   0   \n",
       "BX14UER         9379.0  58020.0                 0                   0   \n",
       "LT17MVA        13000.0  31190.0                 0                   0   \n",
       "DL66HTT        12500.0  49250.0                 1                   0   \n",
       "\n",
       "               fuel_type_Hybrid  fuel_type_Petrol  transmission_Automatic  \\\n",
       "license_plate                                                               \n",
       "SY17KFO                       0                 0                       0   \n",
       "FT59BXE                       0                 1                       0   \n",
       "LL15XOT                       0                 1                       1   \n",
       "SV54MDN                       0                 1                       1   \n",
       "LM64BUH                       0                 1                       1   \n",
       "...                         ...               ...                     ...   \n",
       "YF04HFH                       0                 1                       0   \n",
       "NK15VUW                       0                 0                       1   \n",
       "BX14UER                       0                 1                       0   \n",
       "LT17MVA                       0                 1                       1   \n",
       "DL66HTT                       0                 0                       0   \n",
       "\n",
       "               transmission_Manual  transmission_Semi-auto  \\\n",
       "license_plate                                                \n",
       "SY17KFO                          1                       0   \n",
       "FT59BXE                          1                       0   \n",
       "LL15XOT                          0                       0   \n",
       "SV54MDN                          0                       0   \n",
       "LM64BUH                          0                       0   \n",
       "...                            ...                     ...   \n",
       "YF04HFH                          1                       0   \n",
       "NK15VUW                          0                       0   \n",
       "BX14UER                          1                       0   \n",
       "LT17MVA                          0                       0   \n",
       "DL66HTT                          1                       0   \n",
       "\n",
       "               body_type_Convertible  ...  car_tier_T2  car_tier_T3  \\\n",
       "license_plate                         ...                             \n",
       "SY17KFO                            0  ...            0            0   \n",
       "FT59BXE                            0  ...            1            0   \n",
       "LL15XOT                            0  ...            0            1   \n",
       "SV54MDN                            0  ...            0            0   \n",
       "LM64BUH                            0  ...            0            1   \n",
       "...                              ...  ...          ...          ...   \n",
       "YF04HFH                            0  ...            0            0   \n",
       "NK15VUW                            0  ...            0            0   \n",
       "BX14UER                            0  ...            0            0   \n",
       "LT17MVA                            0  ...            1            0   \n",
       "DL66HTT                            0  ...            0            0   \n",
       "\n",
       "               engine_tier_0-1L  engine_tier_1-2L  engine_tier_2-3L  \\\n",
       "license_plate                                                         \n",
       "SY17KFO                       0                 1                 0   \n",
       "FT59BXE                       0                 1                 0   \n",
       "LL15XOT                       0                 1                 0   \n",
       "SV54MDN                       0                 1                 0   \n",
       "LM64BUH                       0                 1                 0   \n",
       "...                         ...               ...               ...   \n",
       "YF04HFH                       0                 0                 0   \n",
       "NK15VUW                       0                 1                 0   \n",
       "BX14UER                       0                 1                 0   \n",
       "LT17MVA                       0                 1                 0   \n",
       "DL66HTT                       0                 1                 0   \n",
       "\n",
       "               engine_tier_>3L  year_band_2010-2014  year_band_2015-2019  \\\n",
       "license_plate                                                              \n",
       "SY17KFO                      0                    0                    1   \n",
       "FT59BXE                      0                    1                    0   \n",
       "LL15XOT                      0                    0                    1   \n",
       "SV54MDN                      0                    0                    0   \n",
       "LM64BUH                      0                    1                    0   \n",
       "...                        ...                  ...                  ...   \n",
       "YF04HFH                      1                    0                    0   \n",
       "NK15VUW                      0                    0                    1   \n",
       "BX14UER                      0                    1                    0   \n",
       "LT17MVA                      0                    0                    1   \n",
       "DL66HTT                      0                    0                    1   \n",
       "\n",
       "               year_band_<2010  year_band_>2020  \n",
       "license_plate                                    \n",
       "SY17KFO                      0                0  \n",
       "FT59BXE                      0                0  \n",
       "LL15XOT                      0                0  \n",
       "SV54MDN                      1                0  \n",
       "LM64BUH                      0                0  \n",
       "...                        ...              ...  \n",
       "YF04HFH                      1                0  \n",
       "NK15VUW                      0                0  \n",
       "BX14UER                      0                0  \n",
       "LT17MVA                      0                0  \n",
       "DL66HTT                      0                0  \n",
       "\n",
       "[16356 rows x 27 columns]"
      ]
     },
     "execution_count": 66,
     "metadata": {},
     "output_type": "execute_result"
    }
   ],
   "source": [
    "car_df = pd.concat([df['price'], Feature], axis=1)\n",
    "car_df"
   ]
  },
  {
   "cell_type": "code",
   "execution_count": 69,
   "metadata": {},
   "outputs": [
    {
     "data": {
      "text/plain": [
       "array([5295., 4299., 8245., 2095., 8695.])"
      ]
     },
     "execution_count": 69,
     "metadata": {},
     "output_type": "execute_result"
    }
   ],
   "source": [
    "# feature selection\n",
    "X = Feature\n",
    "y = car_df['price'].values\n",
    "y[0:5]"
   ]
  },
  {
   "cell_type": "code",
   "execution_count": 70,
   "metadata": {},
   "outputs": [
    {
     "data": {
      "text/plain": [
       "array([[ 1.73982536,  1.32648966, -0.0399019 , -0.22029242, -1.19898119,\n",
       "        -0.63481105,  0.85518611, -0.39536015, -0.16194637, -0.1872401 ,\n",
       "         2.78831098, -1.00318433, -0.18793862, -0.24956935, -0.55003674,\n",
       "         1.56544975, -0.52906744, -0.9831452 , -0.4216541 ,  0.60664327,\n",
       "        -0.34158335, -0.11730201, -0.47364875,  0.84557952, -0.25450821,\n",
       "        -0.45711982],\n",
       "       [ 0.31726941, -0.75386943, -0.0399019 , -0.22029242,  0.83404144,\n",
       "        -0.63481105,  0.85518611, -0.39536015, -0.16194637, -0.1872401 ,\n",
       "        -0.35864005,  0.99682578, -0.18793862, -0.24956935, -0.55003674,\n",
       "        -0.63879406,  1.8901182 , -0.9831452 , -0.4216541 ,  0.60664327,\n",
       "        -0.34158335, -0.11730201,  2.11126916, -1.18262089, -0.25450821,\n",
       "        -0.45711982],\n",
       "       [ 0.43650798, -0.75386943, -0.0399019 , -0.22029242,  0.83404144,\n",
       "         1.57527188, -1.16933611, -0.39536015, -0.16194637, -0.1872401 ,\n",
       "        -0.35864005,  0.99682578, -0.18793862, -0.24956935, -0.55003674,\n",
       "        -0.63879406, -0.52906744,  1.01714375, -0.4216541 ,  0.60664327,\n",
       "        -0.34158335, -0.11730201, -0.47364875,  0.84557952, -0.25450821,\n",
       "        -0.45711982],\n",
       "       [ 1.72253269, -0.75386943, -0.0399019 , -0.22029242,  0.83404144,\n",
       "         1.57527188, -1.16933611, -0.39536015, -0.16194637, -0.1872401 ,\n",
       "        -0.35864005, -1.00318433, -0.18793862,  4.00690228, -0.55003674,\n",
       "         1.56544975, -0.52906744, -0.9831452 , -0.4216541 ,  0.60664327,\n",
       "        -0.34158335, -0.11730201, -0.47364875, -1.18262089,  3.92914634,\n",
       "        -0.45711982],\n",
       "       [ 0.14178927, -0.75386943, -0.0399019 , -0.22029242,  0.83404144,\n",
       "         1.57527188, -1.16933611, -0.39536015, -0.16194637, -0.1872401 ,\n",
       "        -0.35864005,  0.99682578, -0.18793862, -0.24956935, -0.55003674,\n",
       "        -0.63879406, -0.52906744,  1.01714375, -0.4216541 ,  0.60664327,\n",
       "        -0.34158335, -0.11730201,  2.11126916, -1.18262089, -0.25450821,\n",
       "        -0.45711982]])"
      ]
     },
     "execution_count": 70,
     "metadata": {},
     "output_type": "execute_result"
    }
   ],
   "source": [
    "# nomalize data\n",
    "X= StandardScaler().fit(X).transform(X)\n",
    "X[0:5]\n"
   ]
  }
 ],
 "metadata": {
  "interpreter": {
   "hash": "c08fb017743bd35d6140722dff7e0a9d1ed371fe2131c78a9760f360085fccad"
  },
  "kernelspec": {
   "display_name": "Python 3.8.8 64-bit ('base': conda)",
   "name": "python3"
  },
  "language_info": {
   "name": "python",
   "version": ""
  },
  "orig_nbformat": 4
 },
 "nbformat": 4,
 "nbformat_minor": 2
}